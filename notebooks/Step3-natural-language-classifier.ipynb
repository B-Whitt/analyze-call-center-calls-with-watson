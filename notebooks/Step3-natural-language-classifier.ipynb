{
    "nbformat_minor": 1, 
    "cells": [
        {
            "source": "\n# Notebook 3 \u2013 Natural Language Classifier (NLC)\nIBM Watson Natural Language Classifier uses machine learning algorithms to return the top matching predefined classes for short text input. \n\n*YOU* Create and train a classifier to connect predefined classes to example texts so that the service can apply those classes to new inputs.\n\nhttps://www.ibm.com/watson/services/natural-language-classifier/ \nhttps://www.ibm.com/watson/developercloud/natural-language-classifier/api/v1 \n\n\n## Install dependencies", 
            "cell_type": "markdown", 
            "metadata": {}
        }, 
        {
            "execution_count": 72, 
            "cell_type": "code", 
            "metadata": {}, 
            "outputs": [], 
            "source": "#imports.... Run this each time after restarting the Kernel\n#!pip install watson_developer_cloud\nimport watson_developer_cloud as watson\nimport json\nfrom botocore.client import Config\nimport ibm_boto3\n"
        }, 
        {
            "source": "### Create Watson Natural Language Classifier service\n\n\n### Add Credentials\n\nCopy paste the following snippet to next cell, and add your own set of crdentials there:\n\n```code\ncredentials_os = {\n    'IBM_API_KEY_ID': '',\n    'IAM_SERVICE_ID': '',\n    'ENDPOINT': 'https://s3-api.us-geo.objectstorage.service.networklayer.com',\n    'IBM_AUTH_ENDPOINT': 'https://iam.ng.bluemix.net/oidc/token',\n    'BUCKET': '',\n}\n\ncredentials_nlc = {\n    \"classifier_id\": \"\",\n    \"username\": \"\",\n    \"password\": \"\"\n}\n\n```", 
            "cell_type": "markdown", 
            "metadata": {}
        }, 
        {
            "source": "## TRAIN the NLC by sending it a ground_truth.CSV file to process\n\n<< TO DO MAMOON >> ADD LOGIC HERE FOR PYTHON UPLOAD, PRINT THE MODEL-ID (returned) AND THEN CHECK STATUS (when ready) >>\nthis can take 10m for small ground truth CSV's and longer for more complex - for the tutorial - you can come back later for yours, or use ours\n\n### Not ready msg  >>  \"The classifier instance is in its training phase, not yet ready to accept classify requests\"\n### Ready message >> \"The classifier instance is now available and is ready to take classifier requests\"\n\n### Classifier Training?  Waiting?  No problem - for lab we've pre-trained NLC to be ready to interrogate immediately - with creds", 
            "cell_type": "markdown", 
            "metadata": {}
        }, 
        {
            "execution_count": 73, 
            "cell_type": "code", 
            "metadata": {}, 
            "outputs": [], 
            "source": "# The code was removed by DSX for sharing."
        }, 
        {
            "execution_count": 74, 
            "cell_type": "code", 
            "metadata": {}, 
            "outputs": [], 
            "source": "\nclient = ibm_boto3.client(service_name='s3', \n    ibm_api_key_id=credentials_os['IBM_API_KEY_ID'],\n    ibm_auth_endpoint=credentials_os['IBM_AUTH_ENDPOINT'],\n    config=Config(signature_version='oauth'),\n    endpoint_url='https://s3-api.us-geo.objectstorage.service.networklayer.com')\n\n\n"
        }, 
        {
            "source": "### NLC\n\n- `process_text()` goes throught the text and fetch sentences and concatenate transcript based on chunk size\n- `classify()` calls natural language classifier endpoint and classify the text fields in transcript\n- ", 
            "cell_type": "markdown", 
            "metadata": {}
        }, 
        {
            "execution_count": 77, 
            "cell_type": "code", 
            "metadata": {}, 
            "outputs": [], 
            "source": "#NLC\n\nfrom watson_developer_cloud import NaturalLanguageClassifierV1\n\nnatural_language_classifier = NaturalLanguageClassifierV1(\n    username = credentials_nlc['username'],\n    password = credentials_nlc['password'])\n\nchunk_size = 25\n# Used to SPLIT up - \"CHUNK\" the aggregate transcript into smaller pieces\n\ndef chunk_transcript(transcript, chunk_size):\n    transcript = transcript.split(' ')\n    return [ transcript[i:i+chunk_size] for i in range(0, len(transcript), chunk_size) ] # chunking data\n    \n\ndef process_text(text):\n    transcript=''\n    for sentence in json.loads(text)['results']:\n        transcript = transcript + sentence['alternatives'][0]['transcript'] # concatenate sentences\n    transcript = chunk_transcript(transcript, chunk_size) # chunk the transcript\n    return transcript\n\ndef classify(file_name):\n    streaming_body = client.get_object(Bucket = credentials_os['BUCKET'], Key = file_name.split('.')[0]+'_text.json')['Body']\n    transcript=streaming_body.read().decode(\"utf-8\")\n    analysis = {}\n    for chunk in process_text(transcript):\n        chunk = ' '.join(chunk)\n        analysis[chunk] = natural_language_classifier.classify(credentials_nlc['classifier_id'], chunk)\n    client.put_object(Bucket = credentials_os['BUCKET'], Key = file_name.split('.')[0]+'_nlc', Body= json.dumps(analysis))\n    return analysis\n\n\ndef classify_transcript(file_name):\n    status = natural_language_classifier.get_classifier(credentials_nlc['classifier_id'])\n    if status['status'] == 'Available':\n        classes = classify(file_name)\n    return classes\n"
        }, 
        {
            "execution_count": null, 
            "cell_type": "code", 
            "metadata": {}, 
            "outputs": [
                {
                    "execution_count": 78, 
                    "metadata": {}, 
                    "data": {
                        "text/plain": "{'bye bye ': {'classes': [{'class_name': 'standard-conversation',\n    'confidence': 0.9322813077613376},\n   {'class_name': 'strong-signal-joy', 'confidence': 0.015946408018823546},\n   {'class_name': 'strong-signal-satisfaction',\n    'confidence': 0.011253473850558509},\n   {'class_name': 'social-cue-exit', 'confidence': 0.008802616238827679},\n   {'class_name': 'chit-chat', 'confidence': 0.007338829116471957},\n   {'class_name': 'strong-signal-anger', 'confidence': 0.007010593800530975},\n   {'class_name': 'strong-signal-miscommunication',\n    'confidence': 0.004514950562333546},\n   {'class_name': 'request-strong-signal-manager-request',\n    'confidence': 0.0039424477335365075},\n   {'class_name': 'request-disconnect', 'confidence': 0.0034904947081333022},\n   {'class_name': 'social-cue-uncomfortable',\n    'confidence': 0.0027621427078705625}],\n  'classifier_id': 'f7ea68x308-nlc-917',\n  'text': 'bye bye ',\n  'top_class': 'standard-conversation',\n  'url': 'https://gateway.watsonplatform.net/natural-language-classifier/api/v1/classifiers/f7ea68x308-nlc-917'},\n \"good morning can you give me some help I'd like to change my address please my name is Ryan Smith I am from Sacramento California\": {'classes': [{'class_name': 'standard-conversation',\n    'confidence': 0.8692740163166518},\n   {'class_name': 'request-change-info', 'confidence': 0.09024123827387194},\n   {'class_name': 'request-strong-signal-manager-request',\n    'confidence': 0.010993237765610786},\n   {'class_name': 'request-disconnect', 'confidence': 0.005044540562667859},\n   {'class_name': 'chit-chat', 'confidence': 0.004690192122527188},\n   {'class_name': 'social-cue-uncomfortable',\n    'confidence': 0.004267598663106228},\n   {'class_name': 'social-cue-exit', 'confidence': 0.003610330340053079},\n   {'class_name': 'strong-signal-miscommunication',\n    'confidence': 0.00359586029135937},\n   {'class_name': 'strong-signal-anger', 'confidence': 0.0032647284512208694},\n   {'class_name': 'strong-signal-joy', 'confidence': 0.0026156104038801086}],\n  'classifier_id': 'f7ea68x308-nlc-917',\n  'text': \"good morning can you give me some help I'd like to change my address please my name is Ryan Smith I am from Sacramento California\",\n  'top_class': 'standard-conversation',\n  'url': 'https://gateway.watsonplatform.net/natural-language-classifier/api/v1/classifiers/f7ea68x308-nlc-917'},\n \"phone number stays the same that's right I would like to keep all the options of said no other changes the only thing that I\": {'classes': [{'class_name': 'request-change-info',\n    'confidence': 0.9529488969985309},\n   {'class_name': 'strong-signal-miscommunication',\n    'confidence': 0.02396576039315822},\n   {'class_name': 'social-cue-exit', 'confidence': 0.005145373922153167},\n   {'class_name': 'social-cue-uncomfortable',\n    'confidence': 0.00360014000808943},\n   {'class_name': 'strong-signal-satisfaction',\n    'confidence': 0.0031236549611824292},\n   {'class_name': 'request-disconnect', 'confidence': 0.002709408229697784},\n   {'class_name': 'standard-conversation',\n    'confidence': 0.0025092102979184165},\n   {'class_name': 'chit-chat', 'confidence': 0.001734145557601553},\n   {'class_name': 'request-strong-signal-manager-request',\n    'confidence': 0.0016329373202476453},\n   {'class_name': 'strong-signal-anger', 'confidence': 0.0013484365661497904}],\n  'classifier_id': 'f7ea68x308-nlc-917',\n  'text': \"phone number stays the same that's right I would like to keep all the options of said no other changes the only thing that I\",\n  'top_class': 'request-change-info',\n  'url': 'https://gateway.watsonplatform.net/natural-language-classifier/api/v1/classifiers/f7ea68x308-nlc-917'},\n \"street my new address is five six seven pine street yes and the zip is nine zero two one zero yep that's right now the\": {'classes': [{'class_name': 'standard-conversation',\n    'confidence': 0.9517613030957291},\n   {'class_name': 'request-change-info', 'confidence': 0.014535563067203244},\n   {'class_name': 'strong-signal-satisfaction',\n    'confidence': 0.008636376311546581},\n   {'class_name': 'chit-chat', 'confidence': 0.0063934611160256175},\n   {'class_name': 'social-cue-exit', 'confidence': 0.0038103909794311407},\n   {'class_name': 'request-strong-signal-manager-request',\n    'confidence': 0.0032924350570453934},\n   {'class_name': 'strong-signal-miscommunication',\n    'confidence': 0.002543616977661127},\n   {'class_name': 'social-cue-uncomfortable',\n    'confidence': 0.0025134762956537634},\n   {'class_name': 'strong-signal-joy', 'confidence': 0.0024464163054845806},\n   {'class_name': 'strong-signal-anger', 'confidence': 0.0020965017023605414}],\n  'classifier_id': 'f7ea68x308-nlc-917',\n  'text': \"street my new address is five six seven pine street yes and the zip is nine zero two one zero yep that's right now the\",\n  'top_class': 'standard-conversation',\n  'url': 'https://gateway.watsonplatform.net/natural-language-classifier/api/v1/classifiers/f7ea68x308-nlc-917'},\n \"that's right my phone number is five five five one two one two yes that's me my old address is number one two three oak\": {'classes': [{'class_name': 'standard-conversation',\n    'confidence': 0.9563011926937023},\n   {'class_name': 'request-change-info', 'confidence': 0.015043552630646849},\n   {'class_name': 'strong-signal-satisfaction',\n    'confidence': 0.007370224143331118},\n   {'class_name': 'request-strong-signal-manager-request',\n    'confidence': 0.005135413774182448},\n   {'class_name': 'chit-chat', 'confidence': 0.0030000239663056268},\n   {'class_name': 'social-cue-uncomfortable',\n    'confidence': 0.0026690398804625226},\n   {'class_name': 'strong-signal-anger', 'confidence': 0.0024064954729113774},\n   {'class_name': 'strong-signal-miscommunication',\n    'confidence': 0.0022669472753448234},\n   {'class_name': 'request-disconnect', 'confidence': 0.0021354912182635836},\n   {'class_name': 'strong-signal-joy', 'confidence': 0.0019193071266101745}],\n  'classifier_id': 'f7ea68x308-nlc-917',\n  'text': \"that's right my phone number is five five five one two one two yes that's me my old address is number one two three oak\",\n  'top_class': 'standard-conversation',\n  'url': 'https://gateway.watsonplatform.net/natural-language-classifier/api/v1/classifiers/f7ea68x308-nlc-917'},\n \"want to change is the address yes that's right yep very good yes thank you so much for help it thanks have a good day\": {'classes': [{'class_name': 'strong-signal-satisfaction',\n    'confidence': 0.5939249280385052},\n   {'class_name': 'standard-conversation', 'confidence': 0.3288303057071938},\n   {'class_name': 'request-change-info', 'confidence': 0.0210796048120983},\n   {'class_name': 'social-cue-uncomfortable',\n    'confidence': 0.012759256070259477},\n   {'class_name': 'social-cue-exit', 'confidence': 0.011012562576068374},\n   {'class_name': 'strong-signal-joy', 'confidence': 0.007077266949043435},\n   {'class_name': 'request-disconnect', 'confidence': 0.006094919405886612},\n   {'class_name': 'request-strong-signal-manager-request',\n    'confidence': 0.005724373740339604},\n   {'class_name': 'chit-chat', 'confidence': 0.005499456813775227},\n   {'class_name': 'strong-signal-anger', 'confidence': 0.004076521979388906}],\n  'classifier_id': 'f7ea68x308-nlc-917',\n  'text': \"want to change is the address yes that's right yep very good yes thank you so much for help it thanks have a good day\",\n  'top_class': 'strong-signal-satisfaction',\n  'url': 'https://gateway.watsonplatform.net/natural-language-classifier/api/v1/classifiers/f7ea68x308-nlc-917'}}"
                    }, 
                    "output_type": "execute_result"
                }
            ], 
            "source": "file_list = ['sample1-addresschange-positive.ogg',\n             'sample2-address-negative.ogg',\n             'sample3-shirt-return-weather-chitchat.ogg',\n             'sample4-angryblender-sportschitchat-recovery.ogg',\n             'sample5-calibration-toneandcontext.ogg',\n             'jfk_1961_0525_speech_to_put_man_on_moon.ogg',\n             'May 1 1969 Fred Rogers testifies before the Senate Subcommittee on Communications.ogg'\n            ]\n\n# we add audio files to COS pre-conference - REMEMBER to update this if you add files in Notebook #1  (JSON here, OGG there)\n\nclassify_transcript(file_list[0])"
        }, 
        {
            "execution_count": null, 
            "cell_type": "code", 
            "metadata": {}, 
            "outputs": [], 
            "source": "classify_transcript(file_list[6])\n"
        }, 
        {
            "execution_count": null, 
            "cell_type": "code", 
            "metadata": {}, 
            "outputs": [], 
            "source": ""
        }
    ], 
    "metadata": {
        "kernelspec": {
            "display_name": "Python 3.5 with Spark 2.1", 
            "name": "python3-spark21", 
            "language": "python"
        }, 
        "language_info": {
            "mimetype": "text/x-python", 
            "nbconvert_exporter": "python", 
            "version": "3.5.4", 
            "name": "python", 
            "file_extension": ".py", 
            "pygments_lexer": "ipython3", 
            "codemirror_mode": {
                "version": 3, 
                "name": "ipython"
            }
        }
    }, 
    "nbformat": 4
}