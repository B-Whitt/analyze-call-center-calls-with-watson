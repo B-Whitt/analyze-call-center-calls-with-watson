{
    "nbformat_minor": 1, 
    "cells": [
        {
            "source": "\n# Notebook 3 \u2013 Natural Language Classifier (NLC)\nIBM Watson Natural Language Classifier uses machine learning algorithms to return the top matching predefined classes for short text input. \n\n*YOU* Create and train a classifier to connect predefined classes to example texts so that the service can apply those classes to new inputs.\n\nhttps://www.ibm.com/watson/services/natural-language-classifier/ \nhttps://www.ibm.com/watson/developercloud/natural-language-classifier/api/v1 \n\n\n## Install dependencies", 
            "cell_type": "markdown", 
            "metadata": {}
        }, 
        {
            "execution_count": 5, 
            "cell_type": "code", 
            "metadata": {}, 
            "outputs": [], 
            "source": "#imports.... Run this each time after restarting the Kernel\n#!pip install watson_developer_cloud\nimport watson_developer_cloud as watson\nimport json\nfrom botocore.client import Config\nimport ibm_boto3\n"
        }, 
        {
            "source": "### Create Watson Natural Language Classifier service\n\n\n### Add Credentials\n\nCopy paste the following snippet to next cell, and add your own set of crdentials there:\n\n```code\ncredentials_os = {\n    'IBM_API_KEY_ID': '',\n    'IAM_SERVICE_ID': '',\n    'ENDPOINT': 'https://s3-api.us-geo.objectstorage.service.networklayer.com',\n    'IBM_AUTH_ENDPOINT': 'https://iam.ng.bluemix.net/oidc/token',\n    'BUCKET': '',\n}\n\ncredentials_nlc = {\n    \"classifier_id\": \"\",\n    \"username\": \"\",\n    \"password\": \"\"\n}\n\n```", 
            "cell_type": "markdown", 
            "metadata": {}
        }, 
        {
            "execution_count": 6, 
            "cell_type": "code", 
            "metadata": {}, 
            "outputs": [], 
            "source": "# The code was removed by DSX for sharing."
        }, 
        {
            "execution_count": 7, 
            "cell_type": "code", 
            "metadata": {}, 
            "outputs": [], 
            "source": "\nclient = ibm_boto3.client(service_name='s3', \n    ibm_api_key_id=credentials_os['IBM_API_KEY_ID'],\n    ibm_auth_endpoint=credentials_os['IBM_AUTH_ENDPOINT'],\n    config=Config(signature_version='oauth'),\n    endpoint_url='https://s3-api.us-geo.objectstorage.service.networklayer.com')\n\n\n"
        }, 
        {
            "source": "### NLC\n\n- `process_text()` goes throught the text and fetch sentences and concatenate transcript based on chunk size\n- `classify()` calls natural language classifier endpoint and classify the text fields in transcript\n- ", 
            "cell_type": "markdown", 
            "metadata": {}
        }, 
        {
            "execution_count": 26, 
            "cell_type": "code", 
            "metadata": {}, 
            "outputs": [], 
            "source": "#NLC\n\nfrom watson_developer_cloud import NaturalLanguageClassifierV1\n\n\nnatural_language_classifier = NaturalLanguageClassifierV1(\n    username = credentials_nlc['username'],\n    password = credentials_nlc['password'])\n\nchunk_size = 30\n\ndef chunk_transcript(transcript, chunk_size):\n    transcript = transcript.split(' ')\n    return [ transcript[i:i+chunk_size] for i in range(0, len(transcript), chunk_size) ] # chunking data\n    \n\ndef process_text(text):\n    transcript=''\n    for sentence in json.loads(text)['results']:\n        transcript = transcript + sentence['alternatives'][0]['transcript'] # concatenate sentences\n    transcript = chunk_transcript(transcript, chunk_size) # chunk the transcript\n    return transcript\n\ndef classify(file_name):\n    streaming_body = client.get_object(Bucket = credentials_os['BUCKET'], Key = file_name)['Body']\n    transcript=streaming_body.read().decode(\"utf-8\")\n    analysis = {}\n    for chunk in process_text(transcript):\n        chunk = ' '.join(chunk)\n        analysis[chunk] = natural_language_classifier.classify(credentials_nlc['classifier_id'], chunk)\n    client.put_object(Bucket = credentials_os['BUCKET'], Key = file_name[0].split('_')[0]+'_nlc', Body= json.dumps(analysis))\n    return analysis\n\n\ndef classify_transcript(file_name):\n    status = natural_language_classifier.get_classifier(credentials_nlc['classifier_id'])\n    if status['status'] == 'Available':\n        classes = classify(file_name)\n    return classes\n"
        }, 
        {
            "execution_count": 27, 
            "cell_type": "code", 
            "metadata": {}, 
            "outputs": [
                {
                    "execution_count": 27, 
                    "metadata": {}, 
                    "data": {
                        "text/plain": "{\"good morning can you give me some help I'd like to change my address please my name is Ryan Smith I am from Sacramento California that's right my phone number\": {'classes': [{'class_name': 'Hufflepuff',\n    'confidence': 0.6729345769224545},\n   {'class_name': 'Gryffindor', 'confidence': 0.2980201008381233},\n   {'class_name': 'Ravenclaw', 'confidence': 0.019072750621833615},\n   {'class_name': 'Slytherin', 'confidence': 0.00997257161758855}],\n  'classifier_id': '340008x87-nlc-967',\n  'text': \"good morning can you give me some help I'd like to change my address please my name is Ryan Smith I am from Sacramento California that's right my phone number\",\n  'top_class': 'Hufflepuff',\n  'url': 'https://gateway.watsonplatform.net/natural-language-classifier/api/v1/classifiers/340008x87-nlc-967'},\n \"is five five five one two one two yes that's me my old address is number one two three oak street my new address is five six seven pine street\": {'classes': [{'class_name': 'Gryffindor',\n    'confidence': 0.5209204473123543},\n   {'class_name': 'Hufflepuff', 'confidence': 0.2782146497201263},\n   {'class_name': 'Slytherin', 'confidence': 0.10491216887406567},\n   {'class_name': 'Ravenclaw', 'confidence': 0.09595273409345369}],\n  'classifier_id': '340008x87-nlc-967',\n  'text': \"is five five five one two one two yes that's me my old address is number one two three oak street my new address is five six seven pine street\",\n  'top_class': 'Gryffindor',\n  'url': 'https://gateway.watsonplatform.net/natural-language-classifier/api/v1/classifiers/340008x87-nlc-967'},\n \"of said no other changes the only thing that I want to change is the address yes that's right yep very good yes thank you so much for help it\": {'classes': [{'class_name': 'Gryffindor',\n    'confidence': 0.977953169671799},\n   {'class_name': 'Ravenclaw', 'confidence': 0.010513778119799809},\n   {'class_name': 'Hufflepuff', 'confidence': 0.006945194145491382},\n   {'class_name': 'Slytherin', 'confidence': 0.004587858062909758}],\n  'classifier_id': '340008x87-nlc-967',\n  'text': \"of said no other changes the only thing that I want to change is the address yes that's right yep very good yes thank you so much for help it\",\n  'top_class': 'Gryffindor',\n  'url': 'https://gateway.watsonplatform.net/natural-language-classifier/api/v1/classifiers/340008x87-nlc-967'},\n 'thanks have a good day bye bye ': {'classes': [{'class_name': 'Gryffindor',\n    'confidence': 0.9462259503360967},\n   {'class_name': 'Hufflepuff', 'confidence': 0.03952040482654083},\n   {'class_name': 'Ravenclaw', 'confidence': 0.008592415151372068},\n   {'class_name': 'Slytherin', 'confidence': 0.005661229685990399}],\n  'classifier_id': '340008x87-nlc-967',\n  'text': 'thanks have a good day bye bye ',\n  'top_class': 'Gryffindor',\n  'url': 'https://gateway.watsonplatform.net/natural-language-classifier/api/v1/classifiers/340008x87-nlc-967'},\n \"yes and the zip is nine zero two one zero yep that's right now the phone number stays the same that's right I would like to keep all the options\": {'classes': [{'class_name': 'Ravenclaw',\n    'confidence': 0.5775061254099462},\n   {'class_name': 'Gryffindor', 'confidence': 0.24622850018810893},\n   {'class_name': 'Hufflepuff', 'confidence': 0.15779846053711546},\n   {'class_name': 'Slytherin', 'confidence': 0.018466913864829505}],\n  'classifier_id': '340008x87-nlc-967',\n  'text': \"yes and the zip is nine zero two one zero yep that's right now the phone number stays the same that's right I would like to keep all the options\",\n  'top_class': 'Ravenclaw',\n  'url': 'https://gateway.watsonplatform.net/natural-language-classifier/api/v1/classifiers/340008x87-nlc-967'}}"
                    }, 
                    "output_type": "execute_result"
                }
            ], 
            "source": "text_files = ['sample1-addresschange-positive_text.json', 'sample2-address-negative_text.json', 'sample3-shirt-return-weather-chitchat_text.json', 'sample4-angryblender-sportschitchat-recovery_text.json', 'sample5-calibration-toneandcontext_text.json'] # we add audio files to COS pre-conference\n\n\nclassify_transcript(text_files[0])\n"
        }, 
        {
            "execution_count": null, 
            "cell_type": "code", 
            "metadata": {}, 
            "outputs": [], 
            "source": ""
        }
    ], 
    "metadata": {
        "kernelspec": {
            "display_name": "Python 3.5 with Spark 2.1", 
            "name": "python3-spark21", 
            "language": "python"
        }, 
        "language_info": {
            "mimetype": "text/x-python", 
            "nbconvert_exporter": "python", 
            "version": "3.5.4", 
            "name": "python", 
            "file_extension": ".py", 
            "pygments_lexer": "ipython3", 
            "codemirror_mode": {
                "version": 3, 
                "name": "ipython"
            }
        }
    }, 
    "nbformat": 4
}