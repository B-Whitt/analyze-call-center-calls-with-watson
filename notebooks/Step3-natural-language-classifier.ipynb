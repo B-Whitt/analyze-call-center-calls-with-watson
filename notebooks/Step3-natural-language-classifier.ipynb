{
    "nbformat_minor": 1, 
    "cells": [
        {
            "execution_count": 15, 
            "cell_type": "code", 
            "metadata": {}, 
            "outputs": [
                {
                    "output_type": "stream", 
                    "name": "stdout", 
                    "text": "Requirement already satisfied: watson_developer_cloud in /gpfs/global_fs01/sym_shared/YPProdSpark/user/sfda-f4889f975f5a78-7db7fa961766/.local/lib/python3.5/site-packages\nRequirement already satisfied: python-dateutil>=2.5.3 in /gpfs/global_fs01/sym_shared/YPProdSpark/user/sfda-f4889f975f5a78-7db7fa961766/.local/lib/python3.5/site-packages (from watson_developer_cloud)\nRequirement already satisfied: pysolr<4.0,>=3.3 in /gpfs/global_fs01/sym_shared/YPProdSpark/user/sfda-f4889f975f5a78-7db7fa961766/.local/lib/python3.5/site-packages (from watson_developer_cloud)\nRequirement already satisfied: requests<3.0,>=2.0 in /usr/local/src/conda3_runtime.v28/home/envs/DSX-Python35-Spark/lib/python3.5/site-packages (from watson_developer_cloud)\nRequirement already satisfied: pyOpenSSL>=16.2.0 in /usr/local/src/conda3_runtime.v28/home/envs/DSX-Python35-Spark/lib/python3.5/site-packages (from watson_developer_cloud)\nRequirement already satisfied: six>=1.5 in /gpfs/global_fs01/sym_shared/YPProdSpark/user/sfda-f4889f975f5a78-7db7fa961766/.local/lib/python3.5/site-packages (from python-dateutil>=2.5.3->watson_developer_cloud)\nRequirement already satisfied: chardet<3.1.0,>=3.0.2 in /usr/local/src/conda3_runtime.v28/home/envs/DSX-Python35-Spark/lib/python3.5/site-packages (from requests<3.0,>=2.0->watson_developer_cloud)\nRequirement already satisfied: idna<2.7,>=2.5 in /usr/local/src/conda3_runtime.v28/home/envs/DSX-Python35-Spark/lib/python3.5/site-packages (from requests<3.0,>=2.0->watson_developer_cloud)\nRequirement already satisfied: urllib3<1.23,>=1.21.1 in /usr/local/src/conda3_runtime.v28/home/envs/DSX-Python35-Spark/lib/python3.5/site-packages (from requests<3.0,>=2.0->watson_developer_cloud)\nRequirement already satisfied: certifi>=2017.4.17 in /usr/local/src/conda3_runtime.v28/home/envs/DSX-Python35-Spark/lib/python3.5/site-packages (from requests<3.0,>=2.0->watson_developer_cloud)\nRequirement already satisfied: cryptography>=1.9 in /usr/local/src/conda3_runtime.v28/home/envs/DSX-Python35-Spark/lib/python3.5/site-packages (from pyOpenSSL>=16.2.0->watson_developer_cloud)\nRequirement already satisfied: asn1crypto>=0.21.0 in /usr/local/src/conda3_runtime.v28/home/envs/DSX-Python35-Spark/lib/python3.5/site-packages (from cryptography>=1.9->pyOpenSSL>=16.2.0->watson_developer_cloud)\nRequirement already satisfied: cffi>=1.7 in /usr/local/src/conda3_runtime.v28/home/envs/DSX-Python35-Spark/lib/python3.5/site-packages (from cryptography>=1.9->pyOpenSSL>=16.2.0->watson_developer_cloud)\nRequirement already satisfied: pycparser in /usr/local/src/conda3_runtime.v28/home/envs/DSX-Python35-Spark/lib/python3.5/site-packages (from cffi>=1.7->cryptography>=1.9->pyOpenSSL>=16.2.0->watson_developer_cloud)\n"
                }
            ], 
            "source": "#imports.... Run this each time after restarting the Kernel\n#!pip install -e git+https://github.com/ibm-watson-data-lab/pixiedust@david-gateway-branch#egg=pixiedust\n#!pip install --user --upgrade pixiedust\n#!pip install watson_developer_cloud\nimport pixiedust\nimport json\nimport pandas\nimport datetime\nimport watson_developer_cloud as watson\nimport json\nimport time\nimport re\nimport pyspark\nimport sys\nimport pandas as pd\nfrom botocore.client import Config\nimport ibm_boto3\n\n\n"
        }, 
        {
            "execution_count": 16, 
            "cell_type": "code", 
            "metadata": {}, 
            "outputs": [], 
            "source": "# The code was removed by DSX for sharing."
        }, 
        {
            "execution_count": 17, 
            "cell_type": "code", 
            "metadata": {}, 
            "outputs": [], 
            "source": "# The code was removed by DSX for sharing."
        }, 
        {
            "execution_count": 18, 
            "cell_type": "code", 
            "metadata": {}, 
            "outputs": [], 
            "source": "\nclient = ibm_boto3.client(service_name='s3', \n    ibm_api_key_id=credentials['IBM_API_KEY_ID'],\n    ibm_auth_endpoint=credentials['IBM_AUTH_ENDPOINT'],\n    config=Config(signature_version='oauth'),\n    endpoint_url='https://s3-api.us-geo.objectstorage.service.networklayer.com')\n\n\n"
        }, 
        {
            "execution_count": 33, 
            "cell_type": "code", 
            "metadata": {}, 
            "outputs": [], 
            "source": "#NLC Part 1\n\nfrom watson_developer_cloud import NaturalLanguageClassifierV1\n\n\nnatural_language_classifier = NaturalLanguageClassifierV1(\n    username=username_NLC,\n    password=password_NLC)\n\nchunk_size = 30\n\ndef chunk_transcript(transcript, chunk_size):\n    transcript = transcript.split(' ')\n    return [ transcript[i:i+chunk_size] for i in range(0, len(transcript), chunk_size) ] # chunking data\n    \n\ndef process_text(text):\n    transcript=''\n    for sentence in json.loads(text)['results']:\n        transcript = transcript + sentence['alternatives'][0]['transcript'] # concatenate sentences\n    transcript = chunk_transcript(transcript, chunk_size) # chunk the transcript\n    return transcript\n\ndef classify(file_name):\n    streaming_body = client.get_object(Bucket = credentials['BUCKET'], Key = file_name)['Body']\n    transcript=streaming_body.read().decode(\"utf-8\")\n    analysis = {}\n    for chunk in process_text(transcript):\n        chunk = ' '.join(chunk)\n        print(chunk)\n        analysis[chunk] = natural_language_classifier.classify(classifier_id, chunk)\n    client.put_object(Bucket = credentials['BUCKET'], Key = file_name[0].split('_')[0]+'_nlc', Body= json.dumps(analysis))\n    return analysis\n\n\ndef classify_transcript(file_name):\n    status = natural_language_classifier.get_classifier(classifier_id)\n    print (json.dumps(status, indent=2))\n    if status['status'] == 'Available':\n        classes = classify(file_name)\n        print(json.dumps(classes, indent=2))\n"
        }, 
        {
            "execution_count": 34, 
            "cell_type": "code", 
            "metadata": {}, 
            "outputs": [
                {
                    "output_type": "stream", 
                    "name": "stdout", 
                    "text": "{\n  \"created\": \"2016-08-17T08:01:31.570Z\",\n  \"url\": \"https://gateway.watsonplatform.net/natural-language-classifier/api/v1/classifiers/340008x87-nlc-967\",\n  \"classifier_id\": \"340008x87-nlc-967\",\n  \"name\": \"sortinghat3\",\n  \"language\": \"en\",\n  \"status\": \"Available\",\n  \"status_description\": \"The classifier instance is now available and is ready to take classifier requests.\"\n}\ngood morning can you give me some help I'd like to change my address please my name is Ryan Smith I am from Sacramento California that's right my phone number\nis five five five one two one two yes that's me my old address is number one two three oak street my new address is five six seven pine street\nyes and the zip is nine zero two one zero yep that's right now the phone number stays the same that's right I would like to keep all the options\nof said no other changes the only thing that I want to change is the address yes that's right yep very good yes thank you so much for help it\nthanks have a good day bye bye \n{\n  \"of said no other changes the only thing that I want to change is the address yes that's right yep very good yes thank you so much for help it\": {\n    \"text\": \"of said no other changes the only thing that I want to change is the address yes that's right yep very good yes thank you so much for help it\",\n    \"url\": \"https://gateway.watsonplatform.net/natural-language-classifier/api/v1/classifiers/340008x87-nlc-967\",\n    \"classifier_id\": \"340008x87-nlc-967\",\n    \"top_class\": \"Gryffindor\",\n    \"classes\": [\n      {\n        \"class_name\": \"Gryffindor\",\n        \"confidence\": 0.977953169671799\n      },\n      {\n        \"class_name\": \"Ravenclaw\",\n        \"confidence\": 0.010513778119799809\n      },\n      {\n        \"class_name\": \"Hufflepuff\",\n        \"confidence\": 0.006945194145491382\n      },\n      {\n        \"class_name\": \"Slytherin\",\n        \"confidence\": 0.004587858062909758\n      }\n    ]\n  },\n  \"is five five five one two one two yes that's me my old address is number one two three oak street my new address is five six seven pine street\": {\n    \"text\": \"is five five five one two one two yes that's me my old address is number one two three oak street my new address is five six seven pine street\",\n    \"url\": \"https://gateway.watsonplatform.net/natural-language-classifier/api/v1/classifiers/340008x87-nlc-967\",\n    \"classifier_id\": \"340008x87-nlc-967\",\n    \"top_class\": \"Gryffindor\",\n    \"classes\": [\n      {\n        \"class_name\": \"Gryffindor\",\n        \"confidence\": 0.5209204473123543\n      },\n      {\n        \"class_name\": \"Hufflepuff\",\n        \"confidence\": 0.2782146497201263\n      },\n      {\n        \"class_name\": \"Slytherin\",\n        \"confidence\": 0.10491216887406567\n      },\n      {\n        \"class_name\": \"Ravenclaw\",\n        \"confidence\": 0.09595273409345369\n      }\n    ]\n  },\n  \"yes and the zip is nine zero two one zero yep that's right now the phone number stays the same that's right I would like to keep all the options\": {\n    \"text\": \"yes and the zip is nine zero two one zero yep that's right now the phone number stays the same that's right I would like to keep all the options\",\n    \"url\": \"https://gateway.watsonplatform.net/natural-language-classifier/api/v1/classifiers/340008x87-nlc-967\",\n    \"classifier_id\": \"340008x87-nlc-967\",\n    \"top_class\": \"Ravenclaw\",\n    \"classes\": [\n      {\n        \"class_name\": \"Ravenclaw\",\n        \"confidence\": 0.5775061254099462\n      },\n      {\n        \"class_name\": \"Gryffindor\",\n        \"confidence\": 0.24622850018810893\n      },\n      {\n        \"class_name\": \"Hufflepuff\",\n        \"confidence\": 0.15779846053711546\n      },\n      {\n        \"class_name\": \"Slytherin\",\n        \"confidence\": 0.018466913864829505\n      }\n    ]\n  },\n  \"good morning can you give me some help I'd like to change my address please my name is Ryan Smith I am from Sacramento California that's right my phone number\": {\n    \"text\": \"good morning can you give me some help I'd like to change my address please my name is Ryan Smith I am from Sacramento California that's right my phone number\",\n    \"url\": \"https://gateway.watsonplatform.net/natural-language-classifier/api/v1/classifiers/340008x87-nlc-967\",\n    \"classifier_id\": \"340008x87-nlc-967\",\n    \"top_class\": \"Hufflepuff\",\n    \"classes\": [\n      {\n        \"class_name\": \"Hufflepuff\",\n        \"confidence\": 0.6729345769224545\n      },\n      {\n        \"class_name\": \"Gryffindor\",\n        \"confidence\": 0.2980201008381233\n      },\n      {\n        \"class_name\": \"Ravenclaw\",\n        \"confidence\": 0.019072750621833615\n      },\n      {\n        \"class_name\": \"Slytherin\",\n        \"confidence\": 0.00997257161758855\n      }\n    ]\n  },\n  \"thanks have a good day bye bye \": {\n    \"text\": \"thanks have a good day bye bye \",\n    \"url\": \"https://gateway.watsonplatform.net/natural-language-classifier/api/v1/classifiers/340008x87-nlc-967\",\n    \"classifier_id\": \"340008x87-nlc-967\",\n    \"top_class\": \"Gryffindor\",\n    \"classes\": [\n      {\n        \"class_name\": \"Gryffindor\",\n        \"confidence\": 0.9462259503360967\n      },\n      {\n        \"class_name\": \"Hufflepuff\",\n        \"confidence\": 0.03952040482654083\n      },\n      {\n        \"class_name\": \"Ravenclaw\",\n        \"confidence\": 0.008592415151372068\n      },\n      {\n        \"class_name\": \"Slytherin\",\n        \"confidence\": 0.005661229685990399\n      }\n    ]\n  }\n}\n"
                }
            ], 
            "source": "text_files = ['sample1-addresschange-positive_text.json', 'sample2-address-negative_text.json', 'sample3-shirt-return-weather-chitchat_text.json', 'sample4-angryblender-sportschitchat-recovery_text.json', 'sample5-calibration-toneandcontext_text.json'] # we add audio files to COS pre-conference\n\n\nclassify_transcript(text_files[0])\n"
        }, 
        {
            "execution_count": null, 
            "cell_type": "code", 
            "metadata": {}, 
            "outputs": [], 
            "source": ""
        }
    ], 
    "metadata": {
        "kernelspec": {
            "display_name": "Python 3.5 with Spark 2.1", 
            "name": "python3-spark21", 
            "language": "python"
        }, 
        "language_info": {
            "mimetype": "text/x-python", 
            "nbconvert_exporter": "python", 
            "version": "3.5.4", 
            "name": "python", 
            "file_extension": ".py", 
            "pygments_lexer": "ipython3", 
            "codemirror_mode": {
                "version": 3, 
                "name": "ipython"
            }
        }
    }, 
    "nbformat": 4
}