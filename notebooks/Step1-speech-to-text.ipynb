{
    "nbformat_minor": 1, 
    "cells": [
        {
            "source": "# Call Center Instrumentation & Analytics (CCIA)\n\n## Watson-Call-Center-Think18 Lab March 2015\n\nThis document provides guidance and background for a hands-on Python + IBM Watson lab being presented at an IBM Think2018 conference in March 2018, and for an IPython / Jupyter notebook and python code available for open source after the event.\n\nThe focus is Call Center Instrumentation and Analytics (CCIA) pattern.   The Notebook and information here seek to help organizations beginning to explore how to better understand the unstructured \"dark data\" that arises from phone calls to call centers. \n\n### Why is this useful?\nEnterprises spend more than $1 trillion on 250 billion customer service calls each year.  By using multiple IBM Watson \"signal services\" to extract signal from raw audio data; perform data analytics, clustering, unsupervised and machine learning, and visualizations, technical teams can use data understand patterns in call centers. KPI and ROI positive.\n\n### What is the process? And what Watson services are used?\nStep 1 - Speech to Text (STT) \u2013 Converts Raw Audio to Transcripts; \nStep 2 - Natural Language Understanding (NLU) - extracts features concepts, entities, keywords, categories/topics, sentiment and emotion; \nStep 3 - Natural Language Classifier (NLC) - is a user trained classification service, with user defined \u201cground truth\u201d that classifies text chunks; \nStep 4 - Tone Analyzer (Tone) \u2013 uses linguistic analysis to detect emotional and language tones in written text; \nStep 5 - Call Center Analytics \u2013 analyzes and visualizes the data signal to allow for interpretation of data and in cases, actionable insights; \n\n\n### Beginner Audience & Focus on Basics\n\u2022\tThis is a beginner lab intended to educate on the fundamentals of getting from data to insights with IBM Watson and open source tools \n\u2022\tAudience may include IT and operations teams curious about enriching unstructured data \u2013 the lab is NOT intended for sophisticated call center technologists \n\u2022\tLab/code does NOT purport to compete with expensive and sophisticated solutions already in market \n\u2022\tThe lab and code cover the basics \u2013 to educate on the fundamental plumbing and steps, to provide base for instrumentation \n\n### Success Metrics\nIf successful \u2013 the lab participants or notebook users will\n1.\tGain experience in using an IPython / Jupyter notebook\nhttps://ipython.org/notebook.html\n2.\tConnect to four Watson Developer Cloud \u2018signal service\u2019 APIs \nhttps://www.ibm.com/watson/developer/ \n3.\tConnect to IBM Cloud Object storage for data read and write \nhttps://www.ibm.com/cloud/object-storage \n4.\tUnderstand whether/how the tools and methods might benefit org\nhttps://github.com/mamoonraja/call-center-think18/tree/master/notebooks\n\n", 
            "cell_type": "markdown", 
            "metadata": {}
        }, 
        {
            "source": "## Notebook 1 \u2013 Speech to Text (STT) & First Contact\n## Install Python Dependencies\n\nPython\u2019s standard library is very extensive, offering a wide range of facilities.  It contains built-in modules like JSON a lightweight data interchange format.  https://docs.python.org/2/library/index.html and https://docs.python.org/2/library/json.html\n\nIBM Watson Developer Cloud has a Python client library to quickly get started with the various Watson APIs services.\nhttps://pypi.python.org/pypi/watson-developer-cloud\n\nUsing Python with IBM COS: Python support is provided through the Boto 3 library. The boto3 library provides complete access and can source credentials. The IBM COS endpoint must be specified when creating a service resource or low-level client as shown in documentation\nhttps://ibm-public-cos.github.io/crs-docs/python\n", 
            "cell_type": "markdown", 
            "metadata": {}
        }, 
        {
            "execution_count": 290, 
            "cell_type": "code", 
            "metadata": {}, 
            "outputs": [
                {
                    "output_type": "stream", 
                    "name": "stdout", 
                    "text": "Requirement already satisfied: watson_developer_cloud in /gpfs/global_fs01/sym_shared/YPProdSpark/user/sfda-f4889f975f5a78-7db7fa961766/.local/lib/python3.5/site-packages\nRequirement already satisfied: python-dateutil>=2.5.3 in /gpfs/global_fs01/sym_shared/YPProdSpark/user/sfda-f4889f975f5a78-7db7fa961766/.local/lib/python3.5/site-packages (from watson_developer_cloud)\nRequirement already satisfied: pysolr<4.0,>=3.3 in /gpfs/global_fs01/sym_shared/YPProdSpark/user/sfda-f4889f975f5a78-7db7fa961766/.local/lib/python3.5/site-packages (from watson_developer_cloud)\nRequirement already satisfied: requests<3.0,>=2.0 in /usr/local/src/conda3_runtime.v28/home/envs/DSX-Python35-Spark/lib/python3.5/site-packages (from watson_developer_cloud)\nRequirement already satisfied: pyOpenSSL>=16.2.0 in /usr/local/src/conda3_runtime.v28/home/envs/DSX-Python35-Spark/lib/python3.5/site-packages (from watson_developer_cloud)\nRequirement already satisfied: six>=1.5 in /gpfs/global_fs01/sym_shared/YPProdSpark/user/sfda-f4889f975f5a78-7db7fa961766/.local/lib/python3.5/site-packages (from python-dateutil>=2.5.3->watson_developer_cloud)\nRequirement already satisfied: chardet<3.1.0,>=3.0.2 in /usr/local/src/conda3_runtime.v28/home/envs/DSX-Python35-Spark/lib/python3.5/site-packages (from requests<3.0,>=2.0->watson_developer_cloud)\nRequirement already satisfied: idna<2.7,>=2.5 in /usr/local/src/conda3_runtime.v28/home/envs/DSX-Python35-Spark/lib/python3.5/site-packages (from requests<3.0,>=2.0->watson_developer_cloud)\nRequirement already satisfied: urllib3<1.23,>=1.21.1 in /usr/local/src/conda3_runtime.v28/home/envs/DSX-Python35-Spark/lib/python3.5/site-packages (from requests<3.0,>=2.0->watson_developer_cloud)\nRequirement already satisfied: certifi>=2017.4.17 in /usr/local/src/conda3_runtime.v28/home/envs/DSX-Python35-Spark/lib/python3.5/site-packages (from requests<3.0,>=2.0->watson_developer_cloud)\nRequirement already satisfied: cryptography>=1.9 in /usr/local/src/conda3_runtime.v28/home/envs/DSX-Python35-Spark/lib/python3.5/site-packages (from pyOpenSSL>=16.2.0->watson_developer_cloud)\nRequirement already satisfied: asn1crypto>=0.21.0 in /usr/local/src/conda3_runtime.v28/home/envs/DSX-Python35-Spark/lib/python3.5/site-packages (from cryptography>=1.9->pyOpenSSL>=16.2.0->watson_developer_cloud)\nRequirement already satisfied: cffi>=1.7 in /usr/local/src/conda3_runtime.v28/home/envs/DSX-Python35-Spark/lib/python3.5/site-packages (from cryptography>=1.9->pyOpenSSL>=16.2.0->watson_developer_cloud)\nRequirement already satisfied: pycparser in /usr/local/src/conda3_runtime.v28/home/envs/DSX-Python35-Spark/lib/python3.5/site-packages (from cffi>=1.7->cryptography>=1.9->pyOpenSSL>=16.2.0->watson_developer_cloud)\n"
                }
            ], 
            "source": "#imports.... Run this each time after restarting the Kernel\n!pip install watson_developer_cloud\nimport watson_developer_cloud as watson\nimport json\nfrom botocore.client import Config\nimport ibm_boto3\nimport requests\nfrom urllib.request import urlopen \n"
        }, 
        {
            "source": "## Set up Cloud Object Storage\nIBM Cloud Object Storage is a highly scalable cloud storage service, designed for high durability, resiliency and security. Store, manage and access your data via our self-service portal and RESTful APIs. Connect applications directly to Cloud Object Storage use other IBM Cloud Services with your data.  If creating separate of lab - go here: https://console.bluemix.net/catalog/services/cloud-object-storage to create one\n\nOnce Cloud object storage instance is created (pre-condition for this project), go to Cloud Object Storage dashboard: Login at http://ibm.com/cloud/ aka https://console.ng.bluemix.net/  and from Dashboard select your Cloud object storage instance, which will take you to service dashboard page.\n\n### Credentials\nCredentials are also created for you when you create project. From service dashboard page select `Service Credentials` from left navigation menu item, and copy/paste the credentials below:\n", 
            "cell_type": "markdown", 
            "metadata": {}
        }, 
        {
            "execution_count": 291, 
            "cell_type": "code", 
            "metadata": {}, 
            "outputs": [], 
            "source": "# For Cloud Object Storage\n\ncredentials_os = {\n}\n\n"
        }, 
        {
            "source": "### Bucket name\nBuckets are created for you when you create project. From service dashboard page select `Buckets` from left navigation menu item, and get your bucket name and copy/paste bucket name below:\n", 
            "cell_type": "markdown", 
            "metadata": {}
        }, 
        {
            "execution_count": 292, 
            "cell_type": "code", 
            "metadata": {}, 
            "outputs": [], 
            "source": "credentials_os['BUCKET'] = '<bucket_name>' # copy bucket name from COS"
        }, 
        {
            "source": "### How to get audio files?\n\nYou can follow following sources to get audio files:\n    - https://github.com/mamoonraja/call-center-think18/tree/master/resources/audio_samples\n    - https://github.com/rustyoldrake/call_center_instrumentation_analytics/blob/master/CCIA_lab_test_audio.zip\n\nAudio files are alson uploaded to a cloud object storage bucket for lab purposes, and you can get audio files by using read-only credentials provided by us.", 
            "cell_type": "markdown", 
            "metadata": {}
        }, 
        {
            "execution_count": 293, 
            "cell_type": "code", 
            "metadata": {}, 
            "outputs": [], 
            "source": "credentials_audio_samples = {\n    \"apikey\": \"RRKwTeEGGDJtPDii9SPRxOHooiXZnUdpCRcjnzdPo3uh\",\n    \"endpoints\": \"https://cos-service.bluemix.net/endpoints\",\n    \"iam_apikey_description\": \"Auto generated apikey during resource-key operation for Instance - crn:v1:bluemix:public:cloud-object-storage:global:a/8739a0c318b37263a932b45c1947965d:7ce353a1-fa6f-4e25-a311-e29b0b2a8ad8::\",\n    \"iam_apikey_name\": \"auto-generated-apikey-3e922f8a-7453-4038-8410-5399f9306530\",\n    \"iam_role_crn\": \"crn:v1:bluemix:public:iam::::serviceRole:Reader\",\n    \"iam_serviceid_crn\": \"crn:v1:bluemix:public:iam-identity::a/8739a0c318b37263a932b45c1947965d::serviceid:ServiceId-3039af12-8feb-4ef5-8306-d6acd6a0ca31\",\n    \"resource_instance_id\": \"crn:v1:bluemix:public:cloud-object-storage:global:a/8739a0c318b37263a932b45c1947965d:7ce353a1-fa6f-4e25-a311-e29b0b2a8ad8::\",\n    \"BUCKET\": 'audio-samples',\n}\n\ncredentials_audio_samples['BUCKET'] = 'audio-samples'"
        }, 
        {
            "source": "## Getting STT Credentials \nImporting Credentials \u2013 Each Watson signal service (STT, NLC, NLU and Tone) will require credentials - a username and password\nIf you already have an IBM Cloud / Bluemix account login here https://console.bluemix.net/ but if you have not yet registered for IBM Cloud - you will need to Register for a Free account here https://www.ibm.com/watson/developer/ registration takes less than 4 minutes and is free. More information here https://www.ibm.com/watson/developer-resources/ \n\nOnce logged in - go to https://console.bluemix.net/developer/watson/dashboard - browse services for SPEECH TO TEXT, and select Details, Create service from here https://console.bluemix.net/catalog/services/speech-to-text  - for free you can select LITE Plan \nLITE plan for STT \u201cgets you started with 100 minutes per month at no cost\u201d\n\nThe Username and Password (and URL) is found by clicking on service credentials and then \u201cview credential\u201d, and copy/paste credentials below: ", 
            "cell_type": "markdown", 
            "metadata": {}
        }, 
        {
            "execution_count": 294, 
            "cell_type": "code", 
            "metadata": {}, 
            "outputs": [], 
            "source": "# The code was removed by DSX for sharing."
        }, 
        {
            "execution_count": 295, 
            "cell_type": "code", 
            "metadata": {}, 
            "outputs": [], 
            "source": "# The code was removed by DSX for sharing."
        }, 
        {
            "source": "### Set up Object Storage", 
            "cell_type": "markdown", 
            "metadata": {}
        }, 
        {
            "execution_count": 296, 
            "cell_type": "code", 
            "metadata": {}, 
            "outputs": [], 
            "source": "def set_up_object_storage(credentials_object_storage):\n    endpoints = requests.get(credentials_object_storage['endpoints']).json()\n\n    iam_host = (endpoints['identity-endpoints']['iam-token'])\n    cos_host = (endpoints['service-endpoints']['cross-region']['us']['public']['us-geo'])\n\n    auth_endpoint = \"https://\" + iam_host + \"/oidc/token\"\n    service_endpoint = \"https://\" + cos_host\n\n\n    client = ibm_boto3.client(\n        's3',\n        ibm_api_key_id = credentials_object_storage['apikey'],\n        ibm_service_instance_id = credentials_object_storage['resource_instance_id'],\n        ibm_auth_endpoint = auth_endpoint,\n        config = Config(signature_version='oauth'),\n        endpoint_url = service_endpoint\n       )\n    return client\n\nclient = set_up_object_storage(credentials_os)\nclient_global = set_up_object_storage(credentials_audio_samples)\n\n"
        }, 
        {
            "source": "## Speect to Text \n\nFollowing cell has two methods:\n - `get_transcript()` calls speech to text enpoint and generates a text transcript for you for a sample audio file.\n - `analyze_sample()` gets the sample object from cloud storage, calls get_transcript to fetch the tranccript, and saves your transcript in cloud storage as `<file_name>_text.json`.\n \nOGG, WAV FLAC, L16, MP3, MPEG formats are options for the IBM Watson STT service.  For the lab we use OGG samples. ", 
            "cell_type": "markdown", 
            "metadata": {}
        }, 
        {
            "execution_count": 297, 
            "cell_type": "code", 
            "metadata": {}, 
            "outputs": [], 
            "source": "#STT\n\nimport json\nimport io\nfrom os.path import join, dirname\nfrom watson_developer_cloud import SpeechToTextV1\n\nspeech_to_text = SpeechToTextV1(\n    username = credentials_stt['username'],\n    password = credentials_stt['password'],\n    url = 'https://stream.watsonplatform.net/speech-to-text/api',\n)\n\n\n# OGG, WAV FLAC, L16, MP3, MPEG formats are options for the STT service \n# with Narrowband (generaly telco) and Broadband (e.g. higher quality USB mic) audio.  \n# For the LAB \u2013 OGG format was used for sample files in lab. Of other audio formats e.g. WAV - remember to change 'OGG' content_type='audio/ogg' in code below if you do.\n\n#get transcript Very basic one\ndef get_transcript(audio):\n    transcript = json.dumps(speech_to_text.recognize(audio=audio, content_type='audio/ogg', timestamps=True,\n        word_confidence=True), indent=2)\n    return transcript\n\ndef download_file(path, filename):\n    url = path + filename\n    print(url)\n    r = requests.get(url, stream=True)\n    return r.content\n\ndef analyze_sample(sample):\n    streaming_body = client_global.get_object(Bucket = credentials_audio_samples['BUCKET'], Key=sample)['Body'] #http\n    audio = streaming_body.read()\n    text = get_transcript(audio)\n    client.put_object(Bucket = credentials_os['BUCKET'], Key = sample.split('.')[0] + '_text.json', Body = text)\n    return text\n\ndef visualize(transcript):\n    for result in json.loads(transcript)['results']:\n        print(result['alternatives'][0]['transcript'], result['alternatives'][0]['confidence'])    \n"
        }, 
        {
            "source": "## More about audio files\n\n`file_list` provides list of audio file in an array, each OGG file produces its own transcript.  \n\n    - Samples 1,2,3,4,5 are short - about 2 minutes \n    - Samples 6 and 7 are about 7 minutes (the STT SERVICE WILL NEED TIME TO PROCESS)\n\nFor longer files and transcription at scale: https://www.ibm.com/watson/developercloud/speech-to-text/api/v1/\n\n### WebSockets\nWebSockets includes a single method that establishes a persistent connection with the service over the WebSocket protocol.\n\n### Sessionless\nSessionless includes a method that provides a simple means of transcribing audio without the overhead of establishing and maintaining a session. Sessions provides methods that allow a client to maintain a long, multi-turn exchange, or session, with the service or to establish multiple parallel conversations with a particular instance of the service.\n\n### Asynchronous\nAsynchronous provides a non-blocking interface for transcribing audio. You can register a callback URL to be notified of job status and, optionally, results, or you can poll the service to learn job status and retrieve results manually. Longer (e.g. 1 hour) audio files may justify using asynchronous method, and a real time a sessions method (both defined below)\n\n", 
            "cell_type": "markdown", 
            "metadata": {}
        }, 
        {
            "execution_count": 298, 
            "cell_type": "code", 
            "metadata": {}, 
            "outputs": [], 
            "source": "file_list = ['sample1-addresschange-positive.ogg',\n             'sample2-address-negative.ogg',\n             'sample3-shirt-return-weather-chitchat.ogg',\n             'sample4-angryblender-sportschitchat-recovery.ogg',\n             'sample5-calibration-toneandcontext.ogg',\n             'jfk_1961_0525_speech_to_put_man_on_moon.ogg',\n             'May 1 1969 Fred Rogers testifies before the Senate Subcommittee on Communications.ogg']\n\n   # QA: Double check last filename (spaces vs underscores)"
        }, 
        {
            "source": "## Transcription Test - Point to first file in list (position 0) and analyze ", 
            "cell_type": "markdown", 
            "metadata": {}
        }, 
        {
            "execution_count": null, 
            "cell_type": "code", 
            "metadata": {}, 
            "outputs": [
                {
                    "output_type": "stream", 
                    "name": "stdout", 
                    "text": "good morning  0.995\ncan you give me some help I'd like to change my address please  0.999\nmy name is Ryan Smith  0.972\nI am from Sacramento California  0.969\nthat's right  0.996\nmy phone number is five five five one two one two  0.839\nyes that's me  0.997\nmy old address is number one two three oak street  0.965\nmy new address is five six seven pine street  0.869\nyes and the zip is nine zero two one zero  0.921\nyep that's right  0.89\nnow the phone number stays the same  0.808\nthat's right I would like to keep all the options of said no other changes the only thing that I want to change is the address  0.944\nyes that's right  0.995\nyep  0.583\nvery good yes thank you so much for help  0.921\nit  0.419\nthanks have a good day bye bye  0.994\n"
                }
            ], 
            "source": "# TRANSCRIBE \u2013 this is where STT receives the OGG files provided and returns text to TRANSCRIPT\n# this is a test of ONE transcription in the list - place '0' - may take a minute\ntranscript = analyze_sample(file_list[0])\nvisualize(transcript)"
        }, 
        {
            "execution_count": null, 
            "cell_type": "code", 
            "metadata": {}, 
            "outputs": [
                {
                    "output_type": "stream", 
                    "name": "stdout", 
                    "text": "Processing file:  sample1-addresschange-positive.ogg\ngood morning  0.995\ncan you give me some help I'd like to change my address please  0.999\nmy name is Ryan Smith  0.972\nI am from Sacramento California  0.969\nthat's right  0.996\nmy phone number is five five five one two one two  0.839\nyes that's me  0.997\nmy old address is number one two three oak street  0.965\nmy new address is five six seven pine street  0.869\nyes and the zip is nine zero two one zero  0.921\nyep that's right  0.89\nnow the phone number stays the same  0.808\nthat's right I would like to keep all the options of said no other changes the only thing that I want to change is the address  0.944\nyes that's right  0.995\nyep  0.583\nvery good yes thank you so much for help  0.921\nit  0.419\nthanks have a good day bye bye  0.994\nProcessing file:  sample2-address-negative.ogg\nI am  0.506\nyeah I want to change my address  0.895\nnaw  0.277\nyou know this is the third time this week I've had to call in to change a setting for some reason you keep sending my mail to the old address I'm getting pretty frustrated  0.833\nso are  0.812\ncan you just get it changed and hopefully you guys don't screwed up again  0.787\nokay  0.992\nyeah it's Bob Smith in Sacramento  0.953\nand my old addresses one twenty three oak street  0.849\nand my new address is four five six pine street  0.826\nyep that's right  0.922\nand is it is nine zero two one zero  0.892\nand I gotta tell you I'm getting pretty frustrated having to call you guys back this is %HESITATION it's kind of pissed me off  0.761\nall right Sir you're certain I'm not happy changed again  0.704\nall right  0.553\nyep  0.517\nthat's correct  0.943\nall right  0.603\nokay bye bye  0.833\nProcessing file:  sample3-shirt-return-weather-chitchat.ogg\nhi good afternoon  0.995\nyes I'd like to return the sweatshirt that I had shipped to me last week  0.891\nyeah it's a little bit too small  0.923\nwell the fabric is pretty good day the only problem was it was just came in it was a bit smaller than I expected so  0.901\nI'd I'd love to get a  0.753\nget a bigger size if that's possible  0.916\nokay great  0.98\nwell that's good  0.586\nand how long will it take for the for the new shirt tori  0.825\nand and do you need to receive the old shirt forty shipped anyone offer can need district and anyone often let them cross in the mail  0.689\nokay hall that's traffic  0.723\nyeah  0.36\nwell yeah I know it is it is getting cold out here we've had a cold front  0.873\ncoming in from the Pacific  0.998\nand a lot of rain so it's been been from some very strange weather  0.806\nyep  0.57\nyeah I don't know  0.995\nyeah the weather really seems to be doing some strange things lately last five or ten years  0.918\nmuch longer periods without to without any moisture  0.968\nyeah  0.759\nyeah that's good yet the same address  0.798\nyes please  0.996\nvery good  0.995\nthank you so much for help today  0.924\nokay thank you about  0.799\nProcessing file:  sample4-angryblender-sportschitchat-recovery.ogg\nfinally I got get through to somebody on the other hand  0.85\nI've been going through here automated called tree here for about five minutes and punching buttons and I finally got through to a human being it's about time you guys are wasting my time  0.905\nnot I you know I am so pissed off at your company I bought my blender and I plugged it in and smoke started coming out of it and I try to call you to  0.866\nget a refund or replacement and it takes me nearly ten minutes just to get through to a human being as is absolutely brutal  0.927\ncan't believe you guys are still in business  0.778\nyeah that's the model a model one twenty eight  0.778\nyeah Mohammed kitchens covered in certain the dogs running around chasing its tail and  0.714\nthere's banana smoothie on the roof was pretty pretty bad  0.83\nmy my like my smoothies  0.599\nI make my space because I training for a triathlon  0.613\nI'll  0.119\nhow you like triathlon as well  0.616\nno really  0.526\nhow far do you run  0.89\nand what about the swimming  0.998\nwell good and what kind of a bike do you have  0.791\nroad bike  0.973\nnow  0.368\nokay  0.992\nyeah  0.629\nnow I've been training for about  0.856\nbut two months now  0.995\nyeah  0.242\nwell okay yeah that's the dog seems to have settled down and I can probably like about this movie  0.686\nokay  0.994\nwell what are my options  0.871\nokay you think they think the better  0.731\nthe model nine ninety three is better  0.985\nall right  0.587\nwell sure if you want to send me out one of those and %HESITATION  0.853\nHana and I guess I'll just  0.613\nthrow the other one out  0.909\nwell I guess this stuff happens yeah  0.799\nor you're gonna you know fed ex it to me  0.64\ntomorrow without so that's pretty good  0.732\nwell I know I appreciated I'm sorry I was yelling at yeah I guess it's not your fault  0.865\nyep  0.425\nnot today not appreciated juge you help me out here and I'm pretty thankful something I thank you for your your time and thanks for helping me out here and %HESITATION  0.738\nI appreciate you getting getting this thing sorted out pretty fast  0.701\nyep thanks yeah and good luck with your next race as well  0.807\nyeah thank you so much  0.873\nProcessing file:  sample5-calibration-toneandcontext.ogg\nthis is a calibration recording  0.914\npart one anger  0.997\nI'm so angry that my blender broke  0.894\nI'm really mad at your company  0.948\nI'm so pissed off at your company for letting this happen  0.946\nwhat the hell is wrong with you  0.997\nI'm really mad at you I'm angry  0.905\nI am frustrated angry this is terrible  0.986\nwhat the hell is going on here  0.945\npart two sadness  0.859\nthis is really brutal and terrible and sad  0.82\nI'm feeling quite blue  0.835\nI'm quite sad about the state of affairs  0.935\nI'm sad that my dog got sick  0.937\nI'm ready feeling kind of down and depressed  0.984\npart three discussed gross  0.934\nthat's disgusting I opened a can of tuna fish and it was gross there was something wrong with it  0.917\nthe food smelled rotten and made me want to throw up  0.919\nthis is disgusting  0.997\nthis is so distasteful to see what's going on with your social media  0.954\npart for joy  0.906\nwhat wonderful customer service this is terrific thank you so much  0.988\nthis is absolutely wonderful  0.989\nthis the best service I've ever had your product is amazing  0.959\nyour people are amazing  0.997\nthank you so much for your time and your help today  0.983\nnext part sections context  0.96\nsports  0.965\nlet's talk about baseball  0.997\ndid you see the game last night  0.962\nrugby is an excellent sport  0.88\nI love to watch hockey  0.997\nI also love to watch the Olympics the winter Olympics in the summer Olympics and sprinting  0.992\nswitch  0.884\npolitics  0.995\nthe politics today is absolutely chaotic  0.727\nI like to vote for the Republican Party  0.839\nI like to vote for the Democratic Party  0.971\nI like to vote for the dance Libertarian Party  0.885\nI am a Republican I'm a Democrat I'm a libertarian  0.9\nswitch  0.772\nProcessing file:  jfk_1961_0525_speech_to_put_man_on_moon.ogg\nfinally if we are to win the battle  0.991\nit is now going on around the world  0.959\nbetween freedom and tyranny  0.998\nthe dramatic achievements in space which occurred in recent weeks  0.941\nshould have made clear to us all as did the Sputnik in nineteen fifty seven  0.839\nthe impact  0.946\nall of this adventure  0.836\non the minds of men everywhere  0.927\nwho are attempting to make a determination of which road they should take  0.842\nsince early in my term our efforts in space have been under review  0.718\nwith the advice of the vice president who is chairman of the national space council  0.943\nwe have examined where we are strong and where we are not  0.907\nwhere we may succeed and where we may not  0.954\nnow it is time to take longer strides  0.816\ntime for a great new American enterprise  0.914\ntime for this nation to take a clearly leading role in space achievement which in many ways may hold the key to our future on earth  0.922\nI believe we possess all the resources and talents necessary  0.929\nbut the fact of the matter are that we have never made  0.938\nthe national decisions on Marshall the national report sources required for such leadership  0.776\nwe have never specified long range goals on an urgent time schedule or manage our resources and our time so as to ensure their fulfillment  0.839\nrecognizing the headstock  0.716\nten by the Soviets  0.768\nwith their large rocket engines which gives them many months of lead time  0.886\nand recognizing the likelihood that they will exploit this lead for sometime to come in still more impressive successes  0.837\nwe nevertheless are required to make new efforts on our own  0.992\nfallout we cannot guarantee  0.956\nthat we shall one day be first  0.928\nwe can guarantee that any failure to make this effort will make us lost  0.823\nwe take an additional risk by making it in full view of the world  0.854\nbut as shown by the feet of astronauts yeah  0.698\nthis very risky enhances our stature when we are successful  0.734\nthis is not merely a race  0.962\nspaces open doors now  0.465\nand our eagerness to share its meaning is not governed by the efforts of others  0.904\nwe go into space  0.927\nbecause whatever mankind must undertake free men must fully share  0.931\nI therefore ask the Congress above and beyond the increases I had earlier requested for space activities  0.85\nto provide the funds which are needed to meet the following national goals first I believe that this nation should commit itself  0.953\nto achieving the goal before this decade is out of landing a man on the moon and returning him safely to the earth  0.999\nno single space project in this area will be more impressive to mankind or more important for the long range exploration of space and none will be so difficult or expensive to accomplish  0.963\nwe propose to accelerate the development of the appropriate lunar space craft  0.808\nwe propose to develop alternate liquid and solid fuel boosters much larger than any now being developed until certain which is superior  0.844\nwe propose additional funds for other engine developed and for on manned exploration  0.818\nexplorations which are particularly important  0.694\nfor one purpose which this nation will never overlook the survival of the man who first makes this daring flight  0.921\nbut in a very real sense it will not be one man going to the moon  0.922\nwe make this judgment affirmatively it will be an entire nation  0.96\nfor all of us must work to put in a  0.894\nsecondly an additional twenty three million dollars together with seven million dollars already available will accelerate development of the robot nuclear rocket  0.893\nthis gives promise  0.835\nof some day providing a means for even more exciting and ambitious exploration of space  0.84\nbeyond the mold  0.399\nback to the very end of the solar system itself  0.789\nthird an additional fifty million dollars will make the most of our present leadership  0.98\nby accelerating the use of space satellites the worldwide communication  0.883\nfor some additional seventy five million dollars of which fifty three million dollars is for the weather bureau  0.963\nwill help give us at the earliest possible time a satellite system away  0.896\nworldwide weather observation  0.683\nlet it be clear and this is a judgment which the members of the Congress must find a  0.919\nlet it be clear that I am asking the Congress and the country  0.932\nto accept a firm commitment to a new course of action  0.941\na cost which will last for many years  0.889\nand carry very heavy costs  0.735\nfive hundred thirty one million dollars in fiscal sixty two  0.988\nand estimated seven to nine billion dollars additional over the next five years  0.966\nif we oughta go only halfway  0.656\nor reduce our sites in the face of difficulty in my judgment it would be better not to go at all  0.945\nnow this is a choice which this country must make and I'm confident that under the leadership of the state based committees of the Congress in the appropriating committees that you will consider the matter calf it is the most important decision that we make as a nation  0.844\nbut to all of you have lived up to the last four years  0.86\nI've seen a significance of space  0.653\nand the adventures in space and no one can predict with certainty  0.967\nthe ultimate meeting will be of mastery of space  0.855\nI believe we should go to the mall  0.914\nbut I think every citizen of this country as well as the members of the Congress to consider the matter calf in making their judgment  0.935\nwhich we've given attention over many weeks and months  0.853\nbecause it is a heavy burden  0.941\nand %HESITATION there is no sense in %HESITATION agreeing out or desiring that the United States take an affirmative position in outer space unless we are prepared to do the work and they have the burden is to make it successful if we are not we should decide today  0.851\nthis decision demands a major national commitment  0.719\nof scientific and technical manpower  0.791\nbut Terry Allen facilities  0.795\nthe possibility of their diversion from other important activities where they're already thinly and spread  0.88\nthat means a degree of dedication organization and discipline  0.901\nwhich are not always characterized our research and development efforts  0.932\nmeans we cannot afford undo work stoppages  0.832\ninflated cost of material a talent  0.786\nwasteful interagency rivals  0.602\nor a high turnover of key personnel  0.501\nnew objectives in new money cannot solve these problems  0.931\nthey could in fact aggravate them further unless every scientist  0.834\nevery engineer every serviceman every technician contract and civil servants  0.818\ngives his personal pledge that this nation will move forward  0.819\nwith a full speed of freedom in the exciting adventure space  0.792\nProcessing file:  May 1 1969 Fred Rogers testifies before the Senate Subcommittee on Communications.ogg\n"
                }
            ], 
            "source": "for filename in file_list:\n    print('Processing file: ', filename)\n    transcript = analyze_sample(filename)\n    visualize(transcript)"
        }, 
        {
            "execution_count": null, 
            "cell_type": "code", 
            "metadata": {}, 
            "outputs": [], 
            "source": "# Testing position [6] - which is the LONGER OGG file - 7th position Fred Rogers - just under 7 minutes\n\ntranscript = analyze_sample(file_list[6])\nvisualize(transcript)\n"
        }, 
        {
            "execution_count": null, 
            "cell_type": "code", 
            "metadata": {}, 
            "outputs": [], 
            "source": ""
        }
    ], 
    "metadata": {
        "kernelspec": {
            "display_name": "Python 3.5 with Spark 2.1", 
            "name": "python3-spark21", 
            "language": "python"
        }, 
        "language_info": {
            "mimetype": "text/x-python", 
            "nbconvert_exporter": "python", 
            "version": "3.5.4", 
            "name": "python", 
            "file_extension": ".py", 
            "pygments_lexer": "ipython3", 
            "codemirror_mode": {
                "version": 3, 
                "name": "ipython"
            }
        }
    }, 
    "nbformat": 4
}