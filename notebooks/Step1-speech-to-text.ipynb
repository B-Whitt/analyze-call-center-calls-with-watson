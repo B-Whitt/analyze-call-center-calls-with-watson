{
    "nbformat_minor": 1, 
    "cells": [
        {
            "source": "## Install dependencies", 
            "cell_type": "markdown", 
            "metadata": {}
        }, 
        {
            "execution_count": 15, 
            "cell_type": "code", 
            "metadata": {}, 
            "outputs": [], 
            "source": "#imports.... Run this each time after restarting the Kernel\n#!pip install watson_developer_cloud\nimport watson_developer_cloud as watson\nimport json\nfrom botocore.client import Config\nimport ibm_boto3\n"
        }, 
        {
            "source": "### Add Credentials\n\nCopy paste the following snippet to next cell, and add your own set of crdentials there:\n\n```code\ncredentials_os = {\n    'IBM_API_KEY_ID': '',\n    'IAM_SERVICE_ID': '',\n    'ENDPOINT': 'https://s3-api.us-geo.objectstorage.service.networklayer.com',\n    'IBM_AUTH_ENDPOINT': 'https://iam.ng.bluemix.net/oidc/token',\n    'BUCKET': '',\n}\n\ncredentials_stt = {\n    \"url\": \"\",\n    \"username\": \"\",\n    \"password\": \"\"\n}\n\n```", 
            "cell_type": "markdown", 
            "metadata": {}
        }, 
        {
            "execution_count": 16, 
            "cell_type": "code", 
            "metadata": {}, 
            "outputs": [], 
            "source": "# The code was removed by DSX for sharing."
        }, 
        {
            "execution_count": 17, 
            "cell_type": "code", 
            "metadata": {}, 
            "outputs": [], 
            "source": "client = ibm_boto3.client(\n    service_name = 's3', \n    ibm_api_key_id = credentials_os['IBM_API_KEY_ID'],\n    ibm_auth_endpoint = credentials_os['IBM_AUTH_ENDPOINT'],\n    config = Config(signature_version = 'oauth'),\n    endpoint_url = 'https://s3-api.us-geo.objectstorage.service.networklayer.com'\n)\n"
        }, 
        {
            "source": "## Speect to Text \n\nFollowing cell has two methods:\n - `get_transcript()` calls speech to text enpoint and generates a text transcript for you for a sample audio file.\n - `analyze_sample()` gets the sample object from cloud storage, calls get_transcript to fetch the tranccript, and saves your transcript in cloud storage as `<file_name>_text.json`.", 
            "cell_type": "markdown", 
            "metadata": {}
        }, 
        {
            "execution_count": 18, 
            "cell_type": "code", 
            "metadata": {}, 
            "outputs": [], 
            "source": "#STT\n\nimport json\nimport io\nfrom os.path import join, dirname\nfrom watson_developer_cloud import SpeechToTextV1\n\nspeech_to_text = SpeechToTextV1(\n    username = credentials_stt['username'],\n    password = credentials_stt['password'],\n    x_watson_learning_opt_out=False\n)\n\n\n#get transcript Very basic one\ndef get_transcript(audio):\n    transcript = json.dumps(speech_to_text.recognize(audio, content_type='audio/ogg', timestamps=True,\n        word_confidence=True), indent=2)\n    return transcript\n\ndef analyze_sample(sample):\n    streaming_body = client.get_object(Bucket='watsoncallcenterthink18c8855d42de924dc38ccd02f3a8a50d7f', Key=sample)['Body']\n    text = get_transcript(streaming_body.read())\n    client.put_object(Bucket='watsoncallcenterthink18c8855d42de924dc38ccd02f3a8a50d7f', Key = sample.split('.')[0] + '_text.json', Body = text)\n    return text\n"
        }, 
        {
            "source": "## Analyze the selected files\n", 
            "cell_type": "markdown", 
            "metadata": {}
        }, 
        {
            "execution_count": 19, 
            "cell_type": "code", 
            "metadata": {}, 
            "outputs": [], 
            "source": "file_list = ['sample1-addresschange-positive.ogg',\n             'sample2-address-negative.ogg',\n             'sample3-shirt-return-weather-chitchat.ogg',\n             'sample4-angryblender-sportschitchat-recovery.ogg',\n             'sample5-calibration-toneandcontext.ogg']\n"
        }, 
        {
            "execution_count": 34, 
            "cell_type": "code", 
            "metadata": {}, 
            "outputs": [
                {
                    "output_type": "stream", 
                    "name": "stdout", 
                    "text": "(u'good morning ', 0.995)\n(u\"can you give me some help I'd like to change my address please \", 0.999)\n(u'my name is Ryan Smith ', 0.972)\n(u'I am from Sacramento California ', 0.969)\n(u\"that's right \", 0.996)\n(u'my phone number is five five five one two one two ', 0.839)\n(u\"yes that's me \", 0.997)\n(u'my old address is number one two three oak street ', 0.965)\n(u'my new address is five six seven pine street ', 0.865)\n(u'yes and the zip is nine zero two one zero ', 0.921)\n(u\"yep that's right \", 0.89)\n(u'now the phone number stays the same ', 0.808)\n(u\"that's right I would like to keep all the options of said no other changes the only thing that I want to change is the address \", 0.944)\n(u\"yes that's right \", 0.995)\n(u'yep ', 0.583)\n(u'very good yes thank you so much for help ', 0.921)\n(u'it ', 0.419)\n(u'thanks have a good day bye bye ', 0.994)\n"
                }
            ], 
            "source": "transcript = analyze_sample(file_list[0])\n\nfor result in json.loads(transcript)['results']:\n    print(result['alternatives'][0]['transcript'], result['alternatives'][0]['confidence'])"
        }, 
        {
            "execution_count": 36, 
            "cell_type": "code", 
            "metadata": {}, 
            "outputs": [
                {
                    "output_type": "stream", 
                    "name": "stdout", 
                    "text": "(u'I am ', 0.506)\n(u'yeah I want to change my address ', 0.895)\n(u'naw ', 0.276)\n(u\"you know this is the third time this week I've had to call in to change a setting for some reason you keep sending my mail to the old address I'm getting pretty frustrated \", 0.833)\n(u'so are ', 0.812)\n(u\"can you just get it changed and hopefully you guys don't screwed up again \", 0.775)\n(u'okay ', 0.992)\n(u\"yeah it's Bob Smith in Sacramento \", 0.957)\n(u'and my old addresses one twenty three oak street ', 0.849)\n(u'and my new address is four five six pine street ', 0.826)\n(u\"yep that's right \", 0.922)\n(u'and is it is nine zero two one zero ', 0.892)\n(u\"and I gotta tell you I'm getting pretty frustrated having to call you guys back this is %HESITATION it's kind of pissed me off \", 0.761)\n(u\"all right Sir you're certain I'm not happy changed again \", 0.704)\n(u'all right ', 0.553)\n(u'yep ', 0.517)\n(u\"that's correct \", 0.943)\n(u'all right ', 0.603)\n(u'okay bye bye ', 0.833)\n"
                }
            ], 
            "source": "transcript = analyze_sample(file_list[1])\n\nfor result in json.loads(transcript)['results']:\n    print(result['alternatives'][0]['transcript'], result['alternatives'][0]['confidence'])"
        }, 
        {
            "execution_count": null, 
            "cell_type": "code", 
            "metadata": {}, 
            "outputs": [], 
            "source": "### analyze more samples and display results in better format "
        }
    ], 
    "metadata": {
        "kernelspec": {
            "display_name": "Python 2 with Spark 2.1", 
            "name": "python2-spark21", 
            "language": "python"
        }, 
        "language_info": {
            "mimetype": "text/x-python", 
            "nbconvert_exporter": "python", 
            "version": "2.7.11", 
            "name": "python", 
            "file_extension": ".py", 
            "pygments_lexer": "ipython2", 
            "codemirror_mode": {
                "version": 2, 
                "name": "ipython"
            }
        }
    }, 
    "nbformat": 4
}