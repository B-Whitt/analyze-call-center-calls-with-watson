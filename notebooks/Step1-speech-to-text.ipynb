{
    "nbformat_minor": 1, 
    "cells": [
        {
            "source": "# Call Center Instrumentation & Analytics (CCIA)\n\n## Watson-Call-Center-Think18 Lab March 2015\n\nThis document provides guidance and background for a hands-on Python + IBM Watson lab being presented at an IBM Think2018 conference in March 2018, and for an IPython / Jupyter notebook and python code available for open source after the event.\n\nThe focus is Call Center Instrumentation and Analytics (CCIA) pattern.   The Notebook and information here seek to help organizations beginning to explore how to better understand the unstructured \"dark data\" that arises from phone calls to call centers. \n\n### Why is this useful?\nEnterprises spend more than $1 trillion on 250 billion customer service calls each year.  By using multiple IBM Watson \"signal services\" to extract signal from raw audio data; perform data analytics, clustering, unsupervised and machine learning, and visualizations, technical teams can use data understand patterns in call centers. KPI and ROI positive.\n\n### What is the process? And what Watson services are used?\nStep 1 - Speech to Text (STT) \u2013 Converts Raw Audio to Transcripts; \nStep 2 - Natural Language Understanding (NLU) - extracts features concepts, entities, keywords, categories/topics, sentiment and emotion; \nStep 3 - Natural Language Classifier (NLC) - is a user trained classification service, with user defined \u201cground truth\u201d that classifies text chunks; \nStep 4 - Tone Analyzer (Tone) \u2013 uses linguistic analysis to detect emotional and language tones in written text; \nStep 5 - Call Center Analytics \u2013 analyzes and visualizes the data signal to allow for interpretation of data and in cases, actionable insights; \n\n\n### Beginner Audience & Focus on Basics\n\u2022\tThis is a beginner lab intended to educate on the fundamentals of getting from data to insights with IBM Watson and open source tools \n\u2022\tAudience may include IT and operations teams curious about enriching unstructured data \u2013 the lab is NOT intended for sophisticated call center technologists \n\u2022\tLab/code does NOT purport to compete with expensive and sophisticated solutions already in market \n\u2022\tThe lab and code cover the basics \u2013 to educate on the fundamental plumbing and steps, to provide base for instrumentation \n\n### Success Metrics\nIf successful \u2013 the lab participants or notebook users will\n1.\tGain experience in using an IPython / Jupyter notebook\nhttps://ipython.org/notebook.html\n2.\tConnect to four Watson Developer Cloud \u2018signal service\u2019 APIs \nhttps://www.ibm.com/watson/developer/ \n3.\tConnect to IBM Cloud Object storage for data read and write \nhttps://www.ibm.com/cloud/object-storage \n4.\tUnderstand whether/how the tools and methods might benefit org\nhttps://github.com/mamoonraja/call-center-think18/tree/master/notebooks\n", 
            "cell_type": "markdown", 
            "metadata": {}
        }, 
        {
            "source": "## Notebook 1 \u2013 Speech to Text (STT) & First Contact\n## Install Python Dependencies\n\nPython\u2019s standard library is very extensive, offering a wide range of facilities.  It contains built-in modules like JSON a lightweight data interchange format.  https://docs.python.org/2/library/index.html and https://docs.python.org/2/library/json.html\n\nIBM Watson Developer Cloud has a Python client library to quickly get started with the various Watson APIs services.\nhttps://pypi.python.org/pypi/watson-developer-cloud\n\nUsing Python with IBM COS: Python support is provided through the Boto 3 library. The boto3 library provides complete access and can source credentials. The IBM COS endpoint must be specified when creating a service resource or low-level client as shown in documentation\nhttps://ibm-public-cos.github.io/crs-docs/python\n", 
            "cell_type": "markdown", 
            "metadata": {}
        }, 
        {
            "execution_count": 15, 
            "cell_type": "code", 
            "metadata": {}, 
            "outputs": [], 
            "source": "#imports.... Run this each time after restarting the Kernel\n#!pip install watson_developer_cloud\nimport watson_developer_cloud as watson\nimport json\nfrom botocore.client import Config\nimport ibm_boto3\n"
        }, 
        {
            "source": "### Add COS and STT Credentials\n\nCopy paste the following snippet to next cell, and add your own set of credentials  \n\nFor Cloud Object Storage\n\n```code\ncredentials_os = {\n    'IBM_API_KEY_ID': '',\n    'IAM_SERVICE_ID': '',\n    'ENDPOINT': 'https://s3-api.us-geo.objectstorage.service.networklayer.com',\n    'IBM_AUTH_ENDPOINT': 'https://iam.ng.bluemix.net/oidc/token',\n    'BUCKET': '',\n}\n```\n\nFor IBM Watson Speech to Text (STT) API\n\n```code\ncredentials_stt = {\n    \"url\": \"\",\n    \"username\": \"\",\n    \"password\": \"\"\n}\n\n```\n\n## Getting COS Credentials \nIBM Cloud Object Storage is a highly scalable cloud storage service, designed for high durability, resiliency and security. Store, manage and access your data via our self-service portal and RESTful APIs. Connect applications directly to Cloud Object Storage use other IBM Cloud Services with your data.\nCreate LITE (free) service here https://console.bluemix.net/catalog/services/cloud-object-storage and get credentials by clicking on service credentials and then \u201cview credential\u201d \n\n\n## Getting STT Credentials \nImporting Credentials \u2013 Each Watson signal service (STT, NLC, NLU and Tone) will require credentials - a username and password\nIf you already have an IBM Cloud / Bluemix account login here https://console.bluemix.net/ but if you have not yet registered for IBM Cloud - you will need to Register for a Free account here https://www.ibm.com/watson/developer/ registration takes less than 4 minutes and is free. More information here https://www.ibm.com/watson/developer-resources/ \n\nOnce logged in - go to https://console.bluemix.net/developer/watson/dashboard - browse services for SPEECH TO TEXT, and select Details, Create service from here https://console.bluemix.net/catalog/services/speech-to-text  - for free you can select LITE Plan \nLITE plan for STT \u201cgets you started with 100 minutes per month at no cost\u201d\n\nThe Username and Password (and URL) is found by clicking on service credentials and then \u201cview credential\u201d \n", 
            "cell_type": "markdown", 
            "metadata": {}
        }, 
        {
            "execution_count": 42, 
            "cell_type": "code", 
            "metadata": {}, 
            "outputs": [], 
            "source": "# The code was removed by DSX for sharing."
        }, 
        {
            "execution_count": 43, 
            "cell_type": "code", 
            "metadata": {}, 
            "outputs": [], 
            "source": "client = ibm_boto3.client(\n    service_name = 's3', \n    ibm_api_key_id = credentials_os['IBM_API_KEY_ID'],\n    ibm_auth_endpoint = credentials_os['IBM_AUTH_ENDPOINT'],\n    config = Config(signature_version = 'oauth'),\n    endpoint_url = 'https://s3-api.us-geo.objectstorage.service.networklayer.com'\n)\n"
        }, 
        {
            "source": "## Speect to Text \n\nFollowing cell has two methods:\n - `get_transcript()` calls speech to text enpoint and generates a text transcript for you for a sample audio file.\n - `analyze_sample()` gets the sample object from cloud storage, calls get_transcript to fetch the tranccript, and saves your transcript in cloud storage as `<file_name>_text.json`.\n \nOGG, WAV FLAC, L16, MP3, MPEG formats are options for the IBM Watson STT service.  For the lab we use OGG samples. ", 
            "cell_type": "markdown", 
            "metadata": {}
        }, 
        {
            "execution_count": 44, 
            "cell_type": "code", 
            "metadata": {}, 
            "outputs": [], 
            "source": "#STT\n\nimport json\nimport io\nfrom os.path import join, dirname\nfrom watson_developer_cloud import SpeechToTextV1\n\nspeech_to_text = SpeechToTextV1(\n    username = credentials_stt['username'],\n    password = credentials_stt['password'],\n    x_watson_learning_opt_out=False\n)\n\n\n# OGG, WAV FLAC, L16, MP3, MPEG formats are options for the STT service \n# with Narrowband (generaly telco) and Broadband (e.g. higher quality USB mic) audio.  \n# For the LAB \u2013 OGG format was used for sample files in lab. Of other audio formats e.g. WAV - remember to change 'OGG' content_type='audio/ogg' in code below if you do.\n\n#get transcript Very basic one\ndef get_transcript(audio):\n    transcript = json.dumps(speech_to_text.recognize(audio, content_type='audio/ogg', timestamps=True,\n        word_confidence=True), indent=2)\n    return transcript\n\ndef analyze_sample(sample):\n    streaming_body = client.get_object(Bucket = credentials_os['BUCKET'], Key=sample)['Body']\n    text = get_transcript(streaming_body.read())\n    client.put_object(Bucket = credentials_os['BUCKET'], Key = sample.split('.')[0] + '_text.json', Body = text)\n    return text\n\n"
        }, 
        {
            "source": "## Analyze the selected audio files\n", 
            "cell_type": "markdown", 
            "metadata": {}
        }, 
        {
            "execution_count": 45, 
            "cell_type": "code", 
            "metadata": {}, 
            "outputs": [], 
            "source": "file_list = ['sample1-addresschange-positive.ogg',\n             'sample2-address-negative.ogg',\n             'sample3-shirt-return-weather-chitchat.ogg',\n             'sample4-angryblender-sportschitchat-recovery.ogg',\n             'sample5-calibration-toneandcontext.ogg',\n             'jfk_1961_0525_speech_to_put_man_on_moon.ogg',\n             'May 1 1969 Fred Rogers testifies before the Senate Subcommittee on Communications.ogg']\n\n# jfk_1961_0525_speech_to_put_man_on_moon.ogg  new and longer\n# May 1 1969 Fred Rogers testifies before the Senate Subcommittee on Communications.ogg\n\n\n# FILE LIST \u2013 in this notebook, each OGG file produces its own transcript.  These ones are quite short so it happens quickly.  \n# Longer (e.g. 1 hour) audio files may justify using asynchronous method, and a real time a sessions method (both defined below)\n\n# For longer files and transcription at scale: https://www.ibm.com/watson/developercloud/speech-to-text/api/v1/  \n# WebSockets includes a single method that establishes a persistent connection with the service over the WebSocket protocol.\n# Sessionless includes a method that provides a simple means of transcribing audio without the overhead of establishing and maintaining a session.\n# Sessions provides methods that allow a client to maintain a long, multi-turn exchange, or session, with the service or to establish multiple parallel conversations with a particular instance of the service.\n# Asynchronous provides a non-blocking interface for transcribing audio. You can register a callback URL to be notified of job status and, optionally, results, or you can poll the service to learn job status and retrieve results manually.\n"
        }, 
        {
            "execution_count": 46, 
            "cell_type": "code", 
            "metadata": {}, 
            "outputs": [
                {
                    "output_type": "stream", 
                    "name": "stdout", 
                    "text": "(u'good morning ', 0.995)\n(u\"can you give me some help I'd like to change my address please \", 0.999)\n(u'my name is Ryan Smith ', 0.972)\n(u'I am from Sacramento California ', 0.969)\n(u\"that's right \", 0.996)\n(u'my phone number is five five five one two one two ', 0.839)\n(u\"yes that's me \", 0.997)\n(u'my old address is number one two three oak street ', 0.965)\n(u'my new address is five six seven pine street ', 0.869)\n(u'yes and the zip is nine zero two one zero ', 0.921)\n(u\"yep that's right \", 0.89)\n(u'now the phone number stays the same ', 0.808)\n(u\"that's right I would like to keep all the options of said no other changes the only thing that I want to change is the address \", 0.944)\n(u\"yes that's right \", 0.995)\n(u'yep ', 0.583)\n(u'very good yes thank you so much for help ', 0.921)\n(u'it ', 0.419)\n(u'thanks have a good day bye bye ', 0.994)\n"
                }
            ], 
            "source": "# TRANSCRIBE \u2013 this is where STT receives the OGG files provided and returns text to TRANSCRIPT\n# this is a test of ONE transcription in the list - place '0' - may take a minute\ntranscript = analyze_sample(file_list[0])\n\nfor result in json.loads(transcript)['results']:\n    print(result['alternatives'][0]['transcript'], result['alternatives'][0]['confidence'])"
        }, 
        {
            "execution_count": 48, 
            "cell_type": "code", 
            "metadata": {}, 
            "outputs": [
                {
                    "output_type": "stream", 
                    "name": "stdout", 
                    "text": "(u'now Mister Rogers is certainly one of the best things that ever happened to public television and his people audio award is testament to that fact ', 0.925)\n(u\"we in public television are proud of Fred Rogers and I'm proud to present Mister Rogers to you now from Iraq did you get the phone \", 0.766)\n(u'senator past story ', 0.699)\n(u\"this is a philosophical statement and would take about ten minutes to read so I'll not do that \", 0.977)\n(u'of ', 0.77)\n(u'one of the first things that a child learns in a healthy family is traps ', 0.888)\n(u\"and I trust what you have said that you will read this it's very important to me I care deeply about children \", 0.945)\n(u'my first will make you happy if you read it ', 0.764)\n(u\"I'd just like to talk about it if all right of my first children's programming was on WQAD fifteen years ago \", 0.874)\n(u'and its budget was thirty dollars ', 0.99)\n(u'now with the help of ', 1.0)\n(u'the Sears Roebuck foundation and national educational television as well as ', 0.985)\n(u'all of the affiliated stations each station Hayes to show our program ', 0.924)\n(u\"it's a unique kind of finding an educational television \", 0.836)\n(u'with this help now our program has a budget of six thousand dollars ', 0.948)\n(u'it may sound like quite a difference but six thousand dollars pays for less than two minutes of cartoons ', 0.909)\n(u'two minutes of animated ', 0.998)\n(u\"what I sometimes say bombardment I'm very much concerned as I know you are \", 0.944)\n(u\"about what's being delivered to our children in this country \", 0.994)\n(u\"and I've worked in the field of child development for six years now trying to understand the inner needs of children \", 0.997)\n(u'we deal with such things as ', 1.0)\n(u'as the inner drama of child ', 0.861)\n(u\"we don't have to bop somebody over the head to make him \", 0.926)\n(u'to to make drama on the screen ', 0.867)\n(u'we deal with such things as getting a hair cut ', 0.937)\n(u\"or the feelings about brothers and sisters and the kind of anger that arises in simple family situations and we speak to it constructively along the program is it it's a half hour every day \", 0.869)\n(u'most channels schedule it in in the noon time as well as in the evening ', 0.838)\n(u'of W. ETA here has scheduled in the late afternoon ', 0.725)\n(u'could we get a copy of this so that we can see ', 0.864)\n(u\"maybe not today but I'd like to see the program I'd like very much for you like to see the program itself or any one of them say \", 0.883)\n(u\"we we made a hundred programs for E. and the eastern educational network and then when the money ran out people in Boston and Pittsburgh and Chicago all came to the fore and said we've got to have more of this neighborhood expression of care \", 0.957)\n(u'and this is what ', 1.0)\n(u'this is what I give I give an expression of care every day to each child ', 0.834)\n(u'help him realize that he is unique ', 0.885)\n(u\"I am the program by saying you've made this day a special day by day just you're being you \", 0.952)\n(u\"there's no person in the whole world like you \", 0.91)\n(u'and I like you just the way you are ', 0.917)\n(u'and I feel that if we in public television can only ', 0.975)\n(u'make it clear that feeling ', 0.927)\n(u'our mention uncle and manageable we will have done a great service ', 0.887)\n(u'for mental health ', 0.972)\n(u\"well I think that it's much more dramatic that two men could be working out their feelings of anger \", 0.898)\n(u'much more dramatic than showing something of gun fire ', 0.869)\n(u\"I'm constantly concerned about what our children are seen \", 0.922)\n(u'and for fifteen years I have tried in this country and Canada to present what I feel is a meaningful expression of care ', 0.99)\n(u'do you have an a rating ', 0.496)\n(u\"I'm a hoax yes and I do all the pop ups and I write all the music and I write all the screen I'm supposed to be a pretty tough guy in this the first time I've had goose bumps for the last two days \", 0.834)\n(u\"well I'm grateful not only for your goose bumps but for your interests in in our kind of communication \", 0.841)\n(u'could I tell you the words of one of the songs which I feel is very important is ', 0.897)\n(u\"this has to do with that good feeling of control which I feel that the children need to know it's there and it starts out what do you do with the man that you feel and that first line came straight from a child I work with children doing pop ups in in very personal communication with small groups what do you do with the mad that you feel when you feel so mad you could buy \", 0.928)\n(u'when the whole wide world seems oh so wrong and nothing you do seems very right ', 0.977)\n(u'what do you do do you hunt your bag D. a pound some clay or some dough ', 0.702)\n(u'do you round up friends for a game of tag or see how fast you go ', 0.898)\n(u\"it's great to be able to stop \", 0.989)\n(u\"when you plan the thing that's wrong \", 0.759)\n(u'and be able to do something else instead and think this song I can stop when I want to can stop when I wish can stop stop stop anytime ', 0.904)\n(u\"and what a good feeling to feel like this and know that the feeling is really mine know that there's something deep inside that helps us become what we can \", 0.968)\n(u'for a girl can be some day a lady ', 0.91)\n(u\"and the boy can be some day a man I think it's wonderful \", 0.874)\n(u\"I think it's wonderful \", 0.811)\n(u'%HESITATION looks like you just in the twenty million dollars ', 0.666)\n"
                }
            ], 
            "source": "# Testing position [6] - which is the LONGER OGG file - 7th position Fred Rogers - just under 7 minutes\n\ntranscript = analyze_sample(file_list[6])\n\nfor result in json.loads(transcript)['results']:\n    print(result['alternatives'][0]['transcript'], result['alternatives'][0]['confidence'])"
        }, 
        {
            "execution_count": 37, 
            "cell_type": "code", 
            "metadata": {}, 
            "outputs": [], 
            "source": "### analyze more samples and display results in better format (as table)?"
        }, 
        {
            "execution_count": null, 
            "cell_type": "code", 
            "metadata": {}, 
            "outputs": [], 
            "source": ""
        }
    ], 
    "metadata": {
        "kernelspec": {
            "display_name": "Python 2 with Spark 2.1", 
            "name": "python2-spark21", 
            "language": "python"
        }, 
        "language_info": {
            "mimetype": "text/x-python", 
            "nbconvert_exporter": "python", 
            "version": "2.7.11", 
            "name": "python", 
            "file_extension": ".py", 
            "pygments_lexer": "ipython2", 
            "codemirror_mode": {
                "version": 2, 
                "name": "ipython"
            }
        }
    }, 
    "nbformat": 4
}