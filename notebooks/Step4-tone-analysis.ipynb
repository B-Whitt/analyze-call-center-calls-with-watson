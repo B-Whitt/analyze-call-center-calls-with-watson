{
    "nbformat_minor": 1, 
    "cells": [
        {
            "source": "## Install dependencies", 
            "cell_type": "markdown", 
            "metadata": {}
        }, 
        {
            "execution_count": 4, 
            "cell_type": "code", 
            "metadata": {}, 
            "outputs": [], 
            "source": "#imports.... Run this each time after restarting the Kernel\n#!pip install watson_developer_cloud\nimport watson_developer_cloud as watson\nimport json\nfrom botocore.client import Config\nimport ibm_boto3\n"
        }, 
        {
            "source": "### Create Watson Tone Analysis service\n\n\n### Add Credentials\n\nCopy paste the following snippet to next cell, and add your own set of crdentials there:\n\n```code\ncredentials_os = {\n    'IBM_API_KEY_ID': '',\n    'IAM_SERVICE_ID': '',\n    'ENDPOINT': 'https://s3-api.us-geo.objectstorage.service.networklayer.com',\n    'IBM_AUTH_ENDPOINT': 'https://iam.ng.bluemix.net/oidc/token',\n    'BUCKET': '',\n}\n\ncredentials_tone = {\n}\n\n```", 
            "cell_type": "markdown", 
            "metadata": {}
        }, 
        {
            "execution_count": 5, 
            "cell_type": "code", 
            "metadata": {}, 
            "outputs": [], 
            "source": "# The code was removed by DSX for sharing."
        }, 
        {
            "source": "## Object storage client", 
            "cell_type": "markdown", 
            "metadata": {}
        }, 
        {
            "execution_count": 6, 
            "cell_type": "code", 
            "metadata": {}, 
            "outputs": [], 
            "source": "client = ibm_boto3.client(service_name='s3', \n    ibm_api_key_id = credentials_os['IBM_API_KEY_ID'],\n    ibm_auth_endpoint = credentials_os['IBM_AUTH_ENDPOINT'],\n    config = Config(signature_version='oauth'),\n    endpoint_url = 'https://s3-api.us-geo.objectstorage.service.networklayer.com')\n\n\n\n"
        }, 
        {
            "source": "### Tone\n\n- `process_text()` goes throught the text and fetch sentences and concatenate transcript based on chunk size\n- `analyze transcript()` calls tone analyzer endpoint and analyze the transcript\n- `post_anlysis()` shows tones and their score\n", 
            "cell_type": "markdown", 
            "metadata": {}
        }, 
        {
            "execution_count": 37, 
            "cell_type": "code", 
            "metadata": {}, 
            "outputs": [], 
            "source": "from watson_developer_cloud import ToneAnalyzerV3\n\ntone_analyzer = ToneAnalyzerV3(version = '2016-05-19',\n                               username = credentials_tone['username'],\n                               password = credentials_tone['password'])\n\n\nchunk_size=30\n\ndef chunk_transcript(transcript, chunk_size):\n    transcript = transcript.split(' ')\n    return [ transcript[i:i+chunk_size] for i in range(0, len(transcript), chunk_size) ] # chunking data\n    \n\ndef process_text(text):\n    transcript=''\n    for sentence in json.loads(text)['results']:\n        transcript = transcript + sentence['alternatives'][0]['transcript'] # concatenate sentences\n    transcript = chunk_transcript(transcript, chunk_size) # chunk the transcript\n    return transcript\n\n\ndef analyze_transcript(file_name):\n    transcript = client.get_object(Bucket = credentials_os['BUCKET'], Key = file_name)['Body']\n    transcript = transcript.read().decode(\"utf-8\")\n    tone_analysis={}\n    for chunk in process_text(transcript):\n        chunk = ' '.join(chunk)\n        tone_analysis[chunk] = tone_analyzer.tone(chunk, content_type='text/plain')\n    res=client.put_object(Bucket = credentials_os['BUCKET'], Key= file_name[0].split('_')[0]+'_tone', Body = json.dumps(tone_analysis))\n    return tone_analysis\n\ndef print_tones(tones):\n    for tone in tones:\n        print(tone) ## note for self: update this and show table instead\n\ndef post_analysis(result):\n    for chunk in result.keys():\n        tone_categories = result[chunk]['document_tone']['tone_categories']\n        print('\\nchunk: ', chunk)\n        for tone_category in tone_categories:\n            print_tones(tone_category['tones']) #add table instead of prints\n"
        }, 
        {
            "execution_count": 33, 
            "cell_type": "code", 
            "metadata": {}, 
            "outputs": [], 
            "source": "text_files = [\n    'sample1-addresschange-positive_text.json',\n    'sample2-address-negative_text.json',\n    'sample3-shirt-return-weather-chitchat_text.json',\n    'sample4-angryblender-sportschitchat-recovery_text.json',\n    'sample5-calibration-toneandcontext_text.json'\n]\n\n"
        }, 
        {
            "execution_count": 35, 
            "cell_type": "code", 
            "metadata": {}, 
            "outputs": [
                {
                    "output_type": "stream", 
                    "name": "stdout", 
                    "text": "\nchunk:  of said no other changes the only thing that I want to change is the address yes that's right yep very good yes thank you so much for help it\n{'tone_name': 'Anger', 'tone_id': 'anger', 'score': 0.008838}\n{'tone_name': 'Disgust', 'tone_id': 'disgust', 'score': 0.003648}\n{'tone_name': 'Fear', 'tone_id': 'fear', 'score': 0.015782}\n{'tone_name': 'Joy', 'tone_id': 'joy', 'score': 0.490567}\n{'tone_name': 'Sadness', 'tone_id': 'sadness', 'score': 0.025789}\n{'tone_name': 'Analytical', 'tone_id': 'analytical', 'score': 0.0}\n{'tone_name': 'Confident', 'tone_id': 'confident', 'score': 0.449032}\n{'tone_name': 'Tentative', 'tone_id': 'tentative', 'score': 0.0}\n{'tone_name': 'Openness', 'tone_id': 'openness_big5', 'score': 0.70824}\n{'tone_name': 'Conscientiousness', 'tone_id': 'conscientiousness_big5', 'score': 0.997011}\n{'tone_name': 'Extraversion', 'tone_id': 'extraversion_big5', 'score': 0.561312}\n{'tone_name': 'Agreeableness', 'tone_id': 'agreeableness_big5', 'score': 0.999945}\n{'tone_name': 'Emotional Range', 'tone_id': 'emotional_range_big5', 'score': 0.859732}\n\nchunk:  is five five five one two one two yes that's me my old address is number one two three oak street my new address is five six seven pine street\n{'tone_name': 'Anger', 'tone_id': 'anger', 'score': 0.172933}\n{'tone_name': 'Disgust', 'tone_id': 'disgust', 'score': 0.015805}\n{'tone_name': 'Fear', 'tone_id': 'fear', 'score': 0.308858}\n{'tone_name': 'Joy', 'tone_id': 'joy', 'score': 0.081127}\n{'tone_name': 'Sadness', 'tone_id': 'sadness', 'score': 0.13895}\n{'tone_name': 'Analytical', 'tone_id': 'analytical', 'score': 0.005824}\n{'tone_name': 'Confident', 'tone_id': 'confident', 'score': 0.0}\n{'tone_name': 'Tentative', 'tone_id': 'tentative', 'score': 0.0}\n{'tone_name': 'Openness', 'tone_id': 'openness_big5', 'score': 0.610248}\n{'tone_name': 'Conscientiousness', 'tone_id': 'conscientiousness_big5', 'score': 0.538998}\n{'tone_name': 'Extraversion', 'tone_id': 'extraversion_big5', 'score': 0.708579}\n{'tone_name': 'Agreeableness', 'tone_id': 'agreeableness_big5', 'score': 0.57936}\n{'tone_name': 'Emotional Range', 'tone_id': 'emotional_range_big5', 'score': 0.783064}\n\nchunk:  yes and the zip is nine zero two one zero yep that's right now the phone number stays the same that's right I would like to keep all the options\n{'tone_name': 'Anger', 'tone_id': 'anger', 'score': 0.067541}\n{'tone_name': 'Disgust', 'tone_id': 'disgust', 'score': 0.023768}\n{'tone_name': 'Fear', 'tone_id': 'fear', 'score': 0.041836}\n{'tone_name': 'Joy', 'tone_id': 'joy', 'score': 0.139282}\n{'tone_name': 'Sadness', 'tone_id': 'sadness', 'score': 0.223626}\n{'tone_name': 'Analytical', 'tone_id': 'analytical', 'score': 0.0}\n{'tone_name': 'Confident', 'tone_id': 'confident', 'score': 0.194239}\n{'tone_name': 'Tentative', 'tone_id': 'tentative', 'score': 0.0}\n{'tone_name': 'Openness', 'tone_id': 'openness_big5', 'score': 0.849008}\n{'tone_name': 'Conscientiousness', 'tone_id': 'conscientiousness_big5', 'score': 0.94296}\n{'tone_name': 'Extraversion', 'tone_id': 'extraversion_big5', 'score': 0.623561}\n{'tone_name': 'Agreeableness', 'tone_id': 'agreeableness_big5', 'score': 0.52558}\n{'tone_name': 'Emotional Range', 'tone_id': 'emotional_range_big5', 'score': 0.957396}\n\nchunk:  good morning can you give me some help I'd like to change my address please my name is Ryan Smith I am from Sacramento California that's right my phone number\n{'tone_name': 'Anger', 'tone_id': 'anger', 'score': 0.037599}\n{'tone_name': 'Disgust', 'tone_id': 'disgust', 'score': 0.013308}\n{'tone_name': 'Fear', 'tone_id': 'fear', 'score': 0.019337}\n{'tone_name': 'Joy', 'tone_id': 'joy', 'score': 0.177722}\n{'tone_name': 'Sadness', 'tone_id': 'sadness', 'score': 0.028126}\n{'tone_name': 'Analytical', 'tone_id': 'analytical', 'score': 0.0}\n{'tone_name': 'Confident', 'tone_id': 'confident', 'score': 0.0}\n{'tone_name': 'Tentative', 'tone_id': 'tentative', 'score': 0.497569}\n{'tone_name': 'Openness', 'tone_id': 'openness_big5', 'score': 0.425597}\n{'tone_name': 'Conscientiousness', 'tone_id': 'conscientiousness_big5', 'score': 0.746131}\n{'tone_name': 'Extraversion', 'tone_id': 'extraversion_big5', 'score': 0.982865}\n{'tone_name': 'Agreeableness', 'tone_id': 'agreeableness_big5', 'score': 0.996915}\n{'tone_name': 'Emotional Range', 'tone_id': 'emotional_range_big5', 'score': 0.624295}\n\nchunk:  thanks have a good day bye bye \n{'tone_name': 'Anger', 'tone_id': 'anger', 'score': 0.024368}\n{'tone_name': 'Disgust', 'tone_id': 'disgust', 'score': 0.012478}\n{'tone_name': 'Fear', 'tone_id': 'fear', 'score': 0.032858}\n{'tone_name': 'Joy', 'tone_id': 'joy', 'score': 0.714966}\n{'tone_name': 'Sadness', 'tone_id': 'sadness', 'score': 0.028994}\n{'tone_name': 'Analytical', 'tone_id': 'analytical', 'score': 0.0}\n{'tone_name': 'Confident', 'tone_id': 'confident', 'score': 0.0}\n{'tone_name': 'Tentative', 'tone_id': 'tentative', 'score': 0.0}\n{'tone_name': 'Openness', 'tone_id': 'openness_big5', 'score': 0.092814}\n{'tone_name': 'Conscientiousness', 'tone_id': 'conscientiousness_big5', 'score': 0.303382}\n{'tone_name': 'Extraversion', 'tone_id': 'extraversion_big5', 'score': 0.586832}\n{'tone_name': 'Agreeableness', 'tone_id': 'agreeableness_big5', 'score': 0.633077}\n{'tone_name': 'Emotional Range', 'tone_id': 'emotional_range_big5', 'score': 0.608469}\n"
                }
            ], 
            "source": "result = analyze_transcript(text_files[0])\npost_analysis(result)"
        }, 
        {
            "execution_count": 36, 
            "cell_type": "code", 
            "metadata": {}, 
            "outputs": [
                {
                    "output_type": "stream", 
                    "name": "stdout", 
                    "text": "\nchunk:  I am yeah I want to change my address naw you know this is the third time this week I've had to call in to change a setting for some\n{'tone_name': 'Anger', 'tone_id': 'anger', 'score': 0.080952}\n{'tone_name': 'Disgust', 'tone_id': 'disgust', 'score': 0.056949}\n{'tone_name': 'Fear', 'tone_id': 'fear', 'score': 0.067954}\n{'tone_name': 'Joy', 'tone_id': 'joy', 'score': 0.036435}\n{'tone_name': 'Sadness', 'tone_id': 'sadness', 'score': 0.246673}\n{'tone_name': 'Analytical', 'tone_id': 'analytical', 'score': 0.0}\n{'tone_name': 'Confident', 'tone_id': 'confident', 'score': 0.0}\n{'tone_name': 'Tentative', 'tone_id': 'tentative', 'score': 0.009024}\n{'tone_name': 'Openness', 'tone_id': 'openness_big5', 'score': 0.144427}\n{'tone_name': 'Conscientiousness', 'tone_id': 'conscientiousness_big5', 'score': 0.87961}\n{'tone_name': 'Extraversion', 'tone_id': 'extraversion_big5', 'score': 0.14053}\n{'tone_name': 'Agreeableness', 'tone_id': 'agreeableness_big5', 'score': 0.770171}\n{'tone_name': 'Emotional Range', 'tone_id': 'emotional_range_big5', 'score': 0.579227}\n\nchunk:  okay yeah it's Bob Smith in Sacramento and my old addresses one twenty three oak street and my new address is four five six pine street yep that's right and\n{'tone_name': 'Anger', 'tone_id': 'anger', 'score': 0.05464}\n{'tone_name': 'Disgust', 'tone_id': 'disgust', 'score': 0.023421}\n{'tone_name': 'Fear', 'tone_id': 'fear', 'score': 0.217011}\n{'tone_name': 'Joy', 'tone_id': 'joy', 'score': 0.142966}\n{'tone_name': 'Sadness', 'tone_id': 'sadness', 'score': 0.080243}\n{'tone_name': 'Analytical', 'tone_id': 'analytical', 'score': 0.0}\n{'tone_name': 'Confident', 'tone_id': 'confident', 'score': 0.0}\n{'tone_name': 'Tentative', 'tone_id': 'tentative', 'score': 0.0}\n{'tone_name': 'Openness', 'tone_id': 'openness_big5', 'score': 0.835721}\n{'tone_name': 'Conscientiousness', 'tone_id': 'conscientiousness_big5', 'score': 0.705318}\n{'tone_name': 'Extraversion', 'tone_id': 'extraversion_big5', 'score': 0.956157}\n{'tone_name': 'Agreeableness', 'tone_id': 'agreeableness_big5', 'score': 0.820527}\n{'tone_name': 'Emotional Range', 'tone_id': 'emotional_range_big5', 'score': 0.859776}\n\nchunk:  me off all right Sir you're certain I'm not happy changed again all right yep that's correct all right okay bye bye \n{'tone_name': 'Anger', 'tone_id': 'anger', 'score': 0.027597}\n{'tone_name': 'Disgust', 'tone_id': 'disgust', 'score': 0.164106}\n{'tone_name': 'Fear', 'tone_id': 'fear', 'score': 0.063725}\n{'tone_name': 'Joy', 'tone_id': 'joy', 'score': 0.420633}\n{'tone_name': 'Sadness', 'tone_id': 'sadness', 'score': 0.084367}\n{'tone_name': 'Analytical', 'tone_id': 'analytical', 'score': 0.0}\n{'tone_name': 'Confident', 'tone_id': 'confident', 'score': 0.963575}\n{'tone_name': 'Tentative', 'tone_id': 'tentative', 'score': 0.0}\n{'tone_name': 'Openness', 'tone_id': 'openness_big5', 'score': 0.22344}\n{'tone_name': 'Conscientiousness', 'tone_id': 'conscientiousness_big5', 'score': 0.659653}\n{'tone_name': 'Extraversion', 'tone_id': 'extraversion_big5', 'score': 0.606872}\n{'tone_name': 'Agreeableness', 'tone_id': 'agreeableness_big5', 'score': 0.83027}\n{'tone_name': 'Emotional Range', 'tone_id': 'emotional_range_big5', 'score': 0.283645}\n\nchunk:  is it is nine zero two one zero and I gotta tell you I'm getting pretty frustrated having to call you guys back this is %HESITATION it's kind of pissed\n{'tone_name': 'Anger', 'tone_id': 'anger', 'score': 0.861778}\n{'tone_name': 'Disgust', 'tone_id': 'disgust', 'score': 0.064366}\n{'tone_name': 'Fear', 'tone_id': 'fear', 'score': 0.04928}\n{'tone_name': 'Joy', 'tone_id': 'joy', 'score': 0.012798}\n{'tone_name': 'Sadness', 'tone_id': 'sadness', 'score': 0.203463}\n{'tone_name': 'Analytical', 'tone_id': 'analytical', 'score': 0.0}\n{'tone_name': 'Confident', 'tone_id': 'confident', 'score': 0.0}\n{'tone_name': 'Tentative', 'tone_id': 'tentative', 'score': 0.822231}\n{'tone_name': 'Openness', 'tone_id': 'openness_big5', 'score': 0.746488}\n{'tone_name': 'Conscientiousness', 'tone_id': 'conscientiousness_big5', 'score': 0.221555}\n{'tone_name': 'Extraversion', 'tone_id': 'extraversion_big5', 'score': 0.590064}\n{'tone_name': 'Agreeableness', 'tone_id': 'agreeableness_big5', 'score': 0.517109}\n{'tone_name': 'Emotional Range', 'tone_id': 'emotional_range_big5', 'score': 0.027787}\n\nchunk:  reason you keep sending my mail to the old address I'm getting pretty frustrated so are can you just get it changed and hopefully you guys don't screwed up again\n{'tone_name': 'Anger', 'tone_id': 'anger', 'score': 0.495765}\n{'tone_name': 'Disgust', 'tone_id': 'disgust', 'score': 0.047486}\n{'tone_name': 'Fear', 'tone_id': 'fear', 'score': 0.062265}\n{'tone_name': 'Joy', 'tone_id': 'joy', 'score': 0.077894}\n{'tone_name': 'Sadness', 'tone_id': 'sadness', 'score': 0.247176}\n{'tone_name': 'Analytical', 'tone_id': 'analytical', 'score': 0.0}\n{'tone_name': 'Confident', 'tone_id': 'confident', 'score': 0.0}\n{'tone_name': 'Tentative', 'tone_id': 'tentative', 'score': 0.833824}\n{'tone_name': 'Openness', 'tone_id': 'openness_big5', 'score': 0.036039}\n{'tone_name': 'Conscientiousness', 'tone_id': 'conscientiousness_big5', 'score': 0.636693}\n{'tone_name': 'Extraversion', 'tone_id': 'extraversion_big5', 'score': 0.825852}\n{'tone_name': 'Agreeableness', 'tone_id': 'agreeableness_big5', 'score': 0.881298}\n{'tone_name': 'Emotional Range', 'tone_id': 'emotional_range_big5', 'score': 0.111784}\n"
                }
            ], 
            "source": "result = analyze_transcript(text_files[1])\npost_analysis(result)"
        }, 
        {
            "execution_count": null, 
            "cell_type": "code", 
            "metadata": {}, 
            "outputs": [], 
            "source": ""
        }
    ], 
    "metadata": {
        "kernelspec": {
            "display_name": "Python 3.5 with Spark 2.1", 
            "name": "python3-spark21", 
            "language": "python"
        }
    }, 
    "nbformat": 4
}