{
    "nbformat_minor": 1, 
    "cells": [
        {
            "source": "## Notebook 4 \u2013 Tone Analyzer \nhttps://www.ibm.com/watson/developercloud/tone-analyzer.html \nhttps://www.ibm.com/watson/developercloud/tone-analyzer/api/v3/ \n\nTone Analyzer service uses linguistic analysis to detect emotional and language tones in written text.\n\nIf you already have an IBM Cloud / Bluemix account login here https://console.bluemix.net/ \nIf you have not registered for IBM Cloud - you will need to Register for a Free account here https://www.ibm.com/watson/developer/\t\n\nTo create a TONE endpoint - https://console.bluemix.net/developer/watson/dashboard  LITE Plan for Tone is free\n\n### Tone Analyzer Signals\n\nA comma-separated list of tones for which the service is to return its analysis of the input. The indicated tones apply both to the full document and to individual sentences of the document. You can specify one or more of the following values:\n    emotion\n    language\n    social\n    \n2016-05-19: The service can return results for the following tone IDs of the different categories:\n        For the emotion category: \n            anger, \n            disgust, \n            fear, \n            joy, \n            sadness\n        For the language category: \n            analytical, \n            confident, \n            tentative\n        For the social category: \n            openness_big5, \n            conscientiousness_big5, \n            extraversion_big5, \n            agreeableness_big5,\n            emotional_range_big5\n         The service returns scores for all tones of a category, regardless of their values.\n\n    \n2017-09-21: The service can return results for the following tone IDs: anger, fear, joy, sadness, analytical, confident, and tentative. The service returns results only for tones whose scores meet a minimum threshold of 0.5.\n\nIf Tone Chat Score is used - these are the signals produced\n    sad\n    frustrated\n    satisfied\n    excited\n    polite\n    impolite\n    sympathetic\n\n\n## Install dependencies", 
            "cell_type": "markdown", 
            "metadata": {}
        }, 
        {
            "execution_count": 39, 
            "cell_type": "code", 
            "metadata": {}, 
            "outputs": [], 
            "source": "#imports.... Run this each time after restarting the Kernel\n#!pip install watson_developer_cloud\nimport watson_developer_cloud as watson\nimport json\nfrom botocore.client import Config\nimport ibm_boto3\n"
        }, 
        {
            "source": "### Create Watson Tone Analysis service\n\n\n### Add Credentials\n\nCopy paste the following snippet to next cell, and add your own set of crdentials there:\n\n```code\ncredentials_os = {\n    'IBM_API_KEY_ID': '',\n    'IAM_SERVICE_ID': '',\n    'ENDPOINT': 'https://s3-api.us-geo.objectstorage.service.networklayer.com',\n    'IBM_AUTH_ENDPOINT': 'https://iam.ng.bluemix.net/oidc/token',\n    'BUCKET': '',\n}\n\ncredentials_tone = {\n}\n\n```", 
            "cell_type": "markdown", 
            "metadata": {}
        }, 
        {
            "execution_count": 40, 
            "cell_type": "code", 
            "metadata": {}, 
            "outputs": [], 
            "source": "# The code was removed by DSX for sharing."
        }, 
        {
            "source": "## Object storage client", 
            "cell_type": "markdown", 
            "metadata": {}
        }, 
        {
            "execution_count": 41, 
            "cell_type": "code", 
            "metadata": {}, 
            "outputs": [], 
            "source": "client = ibm_boto3.client(service_name='s3', \n    ibm_api_key_id = credentials_os['IBM_API_KEY_ID'],\n    ibm_auth_endpoint = credentials_os['IBM_AUTH_ENDPOINT'],\n    config = Config(signature_version='oauth'),\n    endpoint_url = 'https://s3-api.us-geo.objectstorage.service.networklayer.com')\n\n\n\n"
        }, 
        {
            "source": "### Tone\n\n- `process_text()` goes throught the text and fetch sentences and concatenate transcript based on chunk size\n- `analyze transcript()` calls tone analyzer endpoint and analyze the transcript\n- `post_anlysis()` shows tones and their score\n", 
            "cell_type": "markdown", 
            "metadata": {}
        }, 
        {
            "execution_count": 46, 
            "cell_type": "code", 
            "metadata": {}, 
            "outputs": [], 
            "source": "from watson_developer_cloud import ToneAnalyzerV3\n\ntone_analyzer = ToneAnalyzerV3(version = '2016-05-19',\n                               username = credentials_tone['username'],\n                               password = credentials_tone['password'])\n\n\nchunk_size=30\n\ndef chunk_transcript(transcript, chunk_size):\n    transcript = transcript.split(' ')\n    return [ transcript[i:i+chunk_size] for i in range(0, len(transcript), chunk_size) ] # chunking data\n    \n\ndef process_text(text):\n    transcript=''\n    for sentence in json.loads(text)['results']:\n        transcript = transcript + sentence['alternatives'][0]['transcript'] # concatenate sentences\n    transcript = chunk_transcript(transcript, chunk_size) # chunk the transcript\n    return transcript\n\n\ndef analyze_transcript(file_name):\n    transcript = client.get_object(Bucket = credentials_os['BUCKET'], Key = file_name.split('.')[0]+'_text.json')['Body']\n    transcript = transcript.read().decode(\"utf-8\")\n    tone_analysis={}\n    for chunk in process_text(transcript):\n        chunk = ' '.join(chunk)\n        tone_analysis[chunk] = tone_analyzer.tone(chunk, content_type='text/plain')\n    res=client.put_object(Bucket = credentials_os['BUCKET'], Key= file_name.split('.')[0]+'_tone.json', Body = json.dumps(tone_analysis))\n    return tone_analysis\n\ndef print_tones(tones):\n    for tone in tones:\n        print(tone) ## note for self: update this and show table instead\n\ndef post_analysis(result):\n    for chunk in result.keys():\n        tone_categories = result[chunk]['document_tone']['tone_categories']\n        print('\\nchunk: ', chunk)\n        for tone_category in tone_categories:\n            print_tones(tone_category['tones']) #add table instead of prints\n"
        }, 
        {
            "execution_count": 47, 
            "cell_type": "code", 
            "metadata": {}, 
            "outputs": [], 
            "source": "file_list = ['sample1-addresschange-positive.ogg',\n             'sample2-address-negative.ogg',\n             'sample3-shirt-return-weather-chitchat.ogg',\n             'sample4-angryblender-sportschitchat-recovery.ogg',\n             'sample5-calibration-toneandcontext.ogg',\n             'jfk_1961_0525_speech_to_put_man_on_moon.ogg',\n             'May 1 1969 Fred Rogers testifies before the Senate Subcommittee on Communications.ogg']\n"
        }, 
        {
            "execution_count": 44, 
            "cell_type": "code", 
            "metadata": {}, 
            "outputs": [
                {
                    "output_type": "stream", 
                    "name": "stdout", 
                    "text": "\nchunk:  of said no other changes the only thing that I want to change is the address yes that's right yep very good yes thank you so much for help it\n{'tone_name': 'Anger', 'tone_id': 'anger', 'score': 0.008838}\n{'tone_name': 'Disgust', 'tone_id': 'disgust', 'score': 0.003648}\n{'tone_name': 'Fear', 'tone_id': 'fear', 'score': 0.015782}\n{'tone_name': 'Joy', 'tone_id': 'joy', 'score': 0.490567}\n{'tone_name': 'Sadness', 'tone_id': 'sadness', 'score': 0.025789}\n{'tone_name': 'Analytical', 'tone_id': 'analytical', 'score': 0.0}\n{'tone_name': 'Confident', 'tone_id': 'confident', 'score': 0.449032}\n{'tone_name': 'Tentative', 'tone_id': 'tentative', 'score': 0.0}\n{'tone_name': 'Openness', 'tone_id': 'openness_big5', 'score': 0.70824}\n{'tone_name': 'Conscientiousness', 'tone_id': 'conscientiousness_big5', 'score': 0.997011}\n{'tone_name': 'Extraversion', 'tone_id': 'extraversion_big5', 'score': 0.561312}\n{'tone_name': 'Agreeableness', 'tone_id': 'agreeableness_big5', 'score': 0.999945}\n{'tone_name': 'Emotional Range', 'tone_id': 'emotional_range_big5', 'score': 0.859732}\n\nchunk:  is five five five one two one two yes that's me my old address is number one two three oak street my new address is five six seven pine street\n{'tone_name': 'Anger', 'tone_id': 'anger', 'score': 0.172933}\n{'tone_name': 'Disgust', 'tone_id': 'disgust', 'score': 0.015805}\n{'tone_name': 'Fear', 'tone_id': 'fear', 'score': 0.308858}\n{'tone_name': 'Joy', 'tone_id': 'joy', 'score': 0.081127}\n{'tone_name': 'Sadness', 'tone_id': 'sadness', 'score': 0.13895}\n{'tone_name': 'Analytical', 'tone_id': 'analytical', 'score': 0.005824}\n{'tone_name': 'Confident', 'tone_id': 'confident', 'score': 0.0}\n{'tone_name': 'Tentative', 'tone_id': 'tentative', 'score': 0.0}\n{'tone_name': 'Openness', 'tone_id': 'openness_big5', 'score': 0.610248}\n{'tone_name': 'Conscientiousness', 'tone_id': 'conscientiousness_big5', 'score': 0.538998}\n{'tone_name': 'Extraversion', 'tone_id': 'extraversion_big5', 'score': 0.708579}\n{'tone_name': 'Agreeableness', 'tone_id': 'agreeableness_big5', 'score': 0.57936}\n{'tone_name': 'Emotional Range', 'tone_id': 'emotional_range_big5', 'score': 0.783064}\n\nchunk:  yes and the zip is nine zero two one zero yep that's right now the phone number stays the same that's right I would like to keep all the options\n{'tone_name': 'Anger', 'tone_id': 'anger', 'score': 0.067541}\n{'tone_name': 'Disgust', 'tone_id': 'disgust', 'score': 0.023768}\n{'tone_name': 'Fear', 'tone_id': 'fear', 'score': 0.041836}\n{'tone_name': 'Joy', 'tone_id': 'joy', 'score': 0.139282}\n{'tone_name': 'Sadness', 'tone_id': 'sadness', 'score': 0.223626}\n{'tone_name': 'Analytical', 'tone_id': 'analytical', 'score': 0.0}\n{'tone_name': 'Confident', 'tone_id': 'confident', 'score': 0.194239}\n{'tone_name': 'Tentative', 'tone_id': 'tentative', 'score': 0.0}\n{'tone_name': 'Openness', 'tone_id': 'openness_big5', 'score': 0.849008}\n{'tone_name': 'Conscientiousness', 'tone_id': 'conscientiousness_big5', 'score': 0.94296}\n{'tone_name': 'Extraversion', 'tone_id': 'extraversion_big5', 'score': 0.623561}\n{'tone_name': 'Agreeableness', 'tone_id': 'agreeableness_big5', 'score': 0.52558}\n{'tone_name': 'Emotional Range', 'tone_id': 'emotional_range_big5', 'score': 0.957396}\n\nchunk:  good morning can you give me some help I'd like to change my address please my name is Ryan Smith I am from Sacramento California that's right my phone number\n{'tone_name': 'Anger', 'tone_id': 'anger', 'score': 0.037599}\n{'tone_name': 'Disgust', 'tone_id': 'disgust', 'score': 0.013308}\n{'tone_name': 'Fear', 'tone_id': 'fear', 'score': 0.019337}\n{'tone_name': 'Joy', 'tone_id': 'joy', 'score': 0.177722}\n{'tone_name': 'Sadness', 'tone_id': 'sadness', 'score': 0.028126}\n{'tone_name': 'Analytical', 'tone_id': 'analytical', 'score': 0.0}\n{'tone_name': 'Confident', 'tone_id': 'confident', 'score': 0.0}\n{'tone_name': 'Tentative', 'tone_id': 'tentative', 'score': 0.497569}\n{'tone_name': 'Openness', 'tone_id': 'openness_big5', 'score': 0.425597}\n{'tone_name': 'Conscientiousness', 'tone_id': 'conscientiousness_big5', 'score': 0.746131}\n{'tone_name': 'Extraversion', 'tone_id': 'extraversion_big5', 'score': 0.982865}\n{'tone_name': 'Agreeableness', 'tone_id': 'agreeableness_big5', 'score': 0.996915}\n{'tone_name': 'Emotional Range', 'tone_id': 'emotional_range_big5', 'score': 0.624295}\n\nchunk:  thanks have a good day bye bye \n{'tone_name': 'Anger', 'tone_id': 'anger', 'score': 0.024368}\n{'tone_name': 'Disgust', 'tone_id': 'disgust', 'score': 0.012478}\n{'tone_name': 'Fear', 'tone_id': 'fear', 'score': 0.032858}\n{'tone_name': 'Joy', 'tone_id': 'joy', 'score': 0.714966}\n{'tone_name': 'Sadness', 'tone_id': 'sadness', 'score': 0.028994}\n{'tone_name': 'Analytical', 'tone_id': 'analytical', 'score': 0.0}\n{'tone_name': 'Confident', 'tone_id': 'confident', 'score': 0.0}\n{'tone_name': 'Tentative', 'tone_id': 'tentative', 'score': 0.0}\n{'tone_name': 'Openness', 'tone_id': 'openness_big5', 'score': 0.092814}\n{'tone_name': 'Conscientiousness', 'tone_id': 'conscientiousness_big5', 'score': 0.303382}\n{'tone_name': 'Extraversion', 'tone_id': 'extraversion_big5', 'score': 0.586832}\n{'tone_name': 'Agreeableness', 'tone_id': 'agreeableness_big5', 'score': 0.633077}\n{'tone_name': 'Emotional Range', 'tone_id': 'emotional_range_big5', 'score': 0.608469}\n"
                }
            ], 
            "source": "result = analyze_transcript(text_files[0])\npost_analysis(result)"
        }, 
        {
            "execution_count": 45, 
            "cell_type": "code", 
            "metadata": {}, 
            "outputs": [
                {
                    "ename": "WatsonApiException", 
                    "evalue": "Error: No text given, Code: 400", 
                    "traceback": [
                        "\u001b[0;31m---------------------------------------------------------------------------\u001b[0m", 
                        "\u001b[0;31mWatsonApiException\u001b[0m                        Traceback (most recent call last)", 
                        "\u001b[0;32m<ipython-input-45-60495c92252b>\u001b[0m in \u001b[0;36m<module>\u001b[0;34m()\u001b[0m\n\u001b[0;32m----> 1\u001b[0;31m \u001b[0mresult\u001b[0m \u001b[0;34m=\u001b[0m \u001b[0manalyze_transcript\u001b[0m\u001b[0;34m(\u001b[0m\u001b[0mtext_files\u001b[0m\u001b[0;34m[\u001b[0m\u001b[0;36m6\u001b[0m\u001b[0;34m]\u001b[0m\u001b[0;34m)\u001b[0m\u001b[0;34m\u001b[0m\u001b[0m\n\u001b[0m\u001b[1;32m      2\u001b[0m \u001b[0mpost_analysis\u001b[0m\u001b[0;34m(\u001b[0m\u001b[0mresult\u001b[0m\u001b[0;34m)\u001b[0m\u001b[0;34m\u001b[0m\u001b[0m\n", 
                        "\u001b[0;32m<ipython-input-42-9ddca0e6f01d>\u001b[0m in \u001b[0;36manalyze_transcript\u001b[0;34m(file_name)\u001b[0m\n\u001b[1;32m     27\u001b[0m     \u001b[0;32mfor\u001b[0m \u001b[0mchunk\u001b[0m \u001b[0;32min\u001b[0m \u001b[0mprocess_text\u001b[0m\u001b[0;34m(\u001b[0m\u001b[0mtranscript\u001b[0m\u001b[0;34m)\u001b[0m\u001b[0;34m:\u001b[0m\u001b[0;34m\u001b[0m\u001b[0m\n\u001b[1;32m     28\u001b[0m         \u001b[0mchunk\u001b[0m \u001b[0;34m=\u001b[0m \u001b[0;34m' '\u001b[0m\u001b[0;34m.\u001b[0m\u001b[0mjoin\u001b[0m\u001b[0;34m(\u001b[0m\u001b[0mchunk\u001b[0m\u001b[0;34m)\u001b[0m\u001b[0;34m\u001b[0m\u001b[0m\n\u001b[0;32m---> 29\u001b[0;31m         \u001b[0mtone_analysis\u001b[0m\u001b[0;34m[\u001b[0m\u001b[0mchunk\u001b[0m\u001b[0;34m]\u001b[0m \u001b[0;34m=\u001b[0m \u001b[0mtone_analyzer\u001b[0m\u001b[0;34m.\u001b[0m\u001b[0mtone\u001b[0m\u001b[0;34m(\u001b[0m\u001b[0mchunk\u001b[0m\u001b[0;34m,\u001b[0m \u001b[0mcontent_type\u001b[0m\u001b[0;34m=\u001b[0m\u001b[0;34m'text/plain'\u001b[0m\u001b[0;34m)\u001b[0m\u001b[0;34m\u001b[0m\u001b[0m\n\u001b[0m\u001b[1;32m     30\u001b[0m     \u001b[0mres\u001b[0m\u001b[0;34m=\u001b[0m\u001b[0mclient\u001b[0m\u001b[0;34m.\u001b[0m\u001b[0mput_object\u001b[0m\u001b[0;34m(\u001b[0m\u001b[0mBucket\u001b[0m \u001b[0;34m=\u001b[0m \u001b[0mcredentials_os\u001b[0m\u001b[0;34m[\u001b[0m\u001b[0;34m'BUCKET'\u001b[0m\u001b[0;34m]\u001b[0m\u001b[0;34m,\u001b[0m \u001b[0mKey\u001b[0m\u001b[0;34m=\u001b[0m \u001b[0mfile_name\u001b[0m\u001b[0;34m[\u001b[0m\u001b[0;36m0\u001b[0m\u001b[0;34m]\u001b[0m\u001b[0;34m.\u001b[0m\u001b[0msplit\u001b[0m\u001b[0;34m(\u001b[0m\u001b[0;34m'_'\u001b[0m\u001b[0;34m)\u001b[0m\u001b[0;34m[\u001b[0m\u001b[0;36m0\u001b[0m\u001b[0;34m]\u001b[0m\u001b[0;34m+\u001b[0m\u001b[0;34m'_tone.json'\u001b[0m\u001b[0;34m,\u001b[0m \u001b[0mBody\u001b[0m \u001b[0;34m=\u001b[0m \u001b[0mjson\u001b[0m\u001b[0;34m.\u001b[0m\u001b[0mdumps\u001b[0m\u001b[0;34m(\u001b[0m\u001b[0mtone_analysis\u001b[0m\u001b[0;34m)\u001b[0m\u001b[0;34m)\u001b[0m\u001b[0;34m\u001b[0m\u001b[0m\n\u001b[1;32m     31\u001b[0m     \u001b[0;32mreturn\u001b[0m \u001b[0mtone_analysis\u001b[0m\u001b[0;34m\u001b[0m\u001b[0m\n", 
                        "\u001b[0;32m~/.local/lib/python3.5/site-packages/watson_developer_cloud/tone_analyzer_v3.py\u001b[0m in \u001b[0;36mtone\u001b[0;34m(self, tone_input, content_type, sentences, tones, content_language, accept_language)\u001b[0m\n\u001b[1;32m    174\u001b[0m             \u001b[0mparams\u001b[0m\u001b[0;34m=\u001b[0m\u001b[0mparams\u001b[0m\u001b[0;34m,\u001b[0m\u001b[0;34m\u001b[0m\u001b[0m\n\u001b[1;32m    175\u001b[0m             \u001b[0mdata\u001b[0m\u001b[0;34m=\u001b[0m\u001b[0mdata\u001b[0m\u001b[0;34m,\u001b[0m\u001b[0;34m\u001b[0m\u001b[0m\n\u001b[0;32m--> 176\u001b[0;31m             accept_json=True)\n\u001b[0m\u001b[1;32m    177\u001b[0m         \u001b[0;32mreturn\u001b[0m \u001b[0mresponse\u001b[0m\u001b[0;34m\u001b[0m\u001b[0m\n\u001b[1;32m    178\u001b[0m \u001b[0;34m\u001b[0m\u001b[0m\n", 
                        "\u001b[0;32m~/.local/lib/python3.5/site-packages/watson_developer_cloud/watson_service.py\u001b[0m in \u001b[0;36mrequest\u001b[0;34m(self, method, url, accept_json, headers, params, json, data, files, **kwargs)\u001b[0m\n\u001b[1;32m    413\u001b[0m             \u001b[0merror_info\u001b[0m \u001b[0;34m=\u001b[0m \u001b[0mself\u001b[0m\u001b[0;34m.\u001b[0m\u001b[0m_get_error_info\u001b[0m\u001b[0;34m(\u001b[0m\u001b[0mresponse\u001b[0m\u001b[0;34m)\u001b[0m\u001b[0;34m\u001b[0m\u001b[0m\n\u001b[1;32m    414\u001b[0m             raise WatsonApiException(response.status_code, error_message,\n\u001b[0;32m--> 415\u001b[0;31m                                      error_info)\n\u001b[0m", 
                        "\u001b[0;31mWatsonApiException\u001b[0m: Error: No text given, Code: 400"
                    ], 
                    "output_type": "error"
                }
            ], 
            "source": "result = analyze_transcript(text_files[6])\npost_analysis(result)"
        }, 
        {
            "execution_count": null, 
            "cell_type": "code", 
            "metadata": {}, 
            "outputs": [], 
            "source": ""
        }
    ], 
    "metadata": {
        "kernelspec": {
            "display_name": "Python 3.5 with Spark 2.1", 
            "name": "python3-spark21", 
            "language": "python"
        }, 
        "language_info": {
            "mimetype": "text/x-python", 
            "nbconvert_exporter": "python", 
            "version": "3.5.4", 
            "name": "python", 
            "file_extension": ".py", 
            "pygments_lexer": "ipython3", 
            "codemirror_mode": {
                "version": 3, 
                "name": "ipython"
            }
        }
    }, 
    "nbformat": 4
}