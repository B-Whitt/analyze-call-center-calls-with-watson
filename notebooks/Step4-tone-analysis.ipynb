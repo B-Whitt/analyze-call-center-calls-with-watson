{
    "nbformat_minor": 1, 
    "cells": [
        {
            "execution_count": 71, 
            "cell_type": "code", 
            "metadata": {}, 
            "outputs": [], 
            "source": "#imports.... Run this each time after restarting the Kernel\n#!pip install -e git+https://github.com/ibm-watson-data-lab/pixiedust@david-gateway-branch#egg=pixiedust\n#!pip install --user --upgrade pixiedust\n#!pip install watson_developer_cloud\nimport pixiedust\nimport json\nimport pandas\nimport datetime\nimport watson_developer_cloud\nimport json\nimport time\nimport re\nimport pyspark\nimport sys\nimport pandas as pd\nfrom botocore.client import Config\nimport ibm_boto3\nimport types\n"
        }, 
        {
            "source": "## Load Credentails", 
            "cell_type": "markdown", 
            "metadata": {}
        }, 
        {
            "execution_count": 72, 
            "cell_type": "code", 
            "metadata": {}, 
            "outputs": [], 
            "source": "# The code was removed by DSX for sharing."
        }, 
        {
            "source": "## create Object storage client", 
            "cell_type": "markdown", 
            "metadata": {}
        }, 
        {
            "execution_count": 73, 
            "cell_type": "code", 
            "metadata": {}, 
            "outputs": [], 
            "source": "client = ibm_boto3.client(service_name='s3', \n    ibm_api_key_id = credentials['IBM_API_KEY_ID'],\n    ibm_auth_endpoint = credentials['IBM_AUTH_ENDPOINT'],\n    config = Config(signature_version='oauth'),\n    endpoint_url = 'https://s3-api.us-geo.objectstorage.service.networklayer.com')\n\n\n\n"
        }, 
        {
            "source": "## initialize watson tone analyzer", 
            "cell_type": "markdown", 
            "metadata": {}
        }, 
        {
            "execution_count": 74, 
            "cell_type": "code", 
            "metadata": {}, 
            "outputs": [], 
            "source": "from watson_developer_cloud import ToneAnalyzerV3\n\ntone_analyzer = ToneAnalyzerV3(version = '2016-05-19',\n                               username = username_TON,\n                               password = password_TON)"
        }, 
        {
            "source": "## Helper functions\n\n### process text\ndetails here\n\n### process transcript", 
            "cell_type": "markdown", 
            "metadata": {}
        }, 
        {
            "execution_count": 77, 
            "cell_type": "code", 
            "metadata": {}, 
            "outputs": [], 
            "source": "\nchunk_size=30\n\ndef chunk_transcript(transcript, chunk_size):\n    transcript = transcript.split(' ')\n    return [ transcript[i:i+chunk_size] for i in range(0, len(transcript), chunk_size) ] # chunking data\n    \n\ndef process_text(text):\n    transcript=''\n    for sentence in json.loads(text)['results']:\n        transcript = transcript + sentence['alternatives'][0]['transcript'] # concatenate sentences\n    transcript = chunk_transcript(transcript, chunk_size) # chunk the transcript\n    return transcript\n\n\ndef analyze_transcript(file_name):\n    transcript = client.get_object(Bucket = credentials['BUCKET'], Key = file_name)['Body']\n    transcript = transcript.read().decode(\"utf-8\")\n    tone_analysis={}\n    for chunk in process_text(transcript):\n        chunk = ' '.join(chunk)\n        print(chunk)\n        tone_analysis[chunk] = tone_analyzer.tone(chunk, content_type='text/plain')\n    print(tone_analysis)\n    res=client.put_object(Bucket = credentials['BUCKET'], Key= file_name[0].split('_')[0]+'_tone', Body = json.dumps(tone_analysis))\n"
        }, 
        {
            "source": "## run it", 
            "cell_type": "markdown", 
            "metadata": {}
        }, 
        {
            "execution_count": 79, 
            "cell_type": "code", 
            "metadata": {}, 
            "outputs": [
                {
                    "output_type": "stream", 
                    "name": "stdout", 
                    "text": "good morning can you give me some help I'd like to change my address please my name is Ryan Smith I am from Sacramento California that's right my phone number\nis five five five one two one two yes that's me my old address is number one two three oak street my new address is five six seven pine street\nyes and the zip is nine zero two one zero yep that's right now the phone number stays the same that's right I would like to keep all the options\nof said no other changes the only thing that I want to change is the address yes that's right yep very good yes thank you so much for help it\nthanks have a good day bye bye \n{\"of said no other changes the only thing that I want to change is the address yes that's right yep very good yes thank you so much for help it\": {'document_tone': {'tone_categories': [{'tones': [{'tone_name': 'Anger', 'tone_id': 'anger', 'score': 0.008838}, {'tone_name': 'Disgust', 'tone_id': 'disgust', 'score': 0.003648}, {'tone_name': 'Fear', 'tone_id': 'fear', 'score': 0.015782}, {'tone_name': 'Joy', 'tone_id': 'joy', 'score': 0.490567}, {'tone_name': 'Sadness', 'tone_id': 'sadness', 'score': 0.025789}], 'category_name': 'Emotion Tone', 'category_id': 'emotion_tone'}, {'tones': [{'tone_name': 'Analytical', 'tone_id': 'analytical', 'score': 0.0}, {'tone_name': 'Confident', 'tone_id': 'confident', 'score': 0.449032}, {'tone_name': 'Tentative', 'tone_id': 'tentative', 'score': 0.0}], 'category_name': 'Language Tone', 'category_id': 'language_tone'}, {'tones': [{'tone_name': 'Openness', 'tone_id': 'openness_big5', 'score': 0.70824}, {'tone_name': 'Conscientiousness', 'tone_id': 'conscientiousness_big5', 'score': 0.997011}, {'tone_name': 'Extraversion', 'tone_id': 'extraversion_big5', 'score': 0.561312}, {'tone_name': 'Agreeableness', 'tone_id': 'agreeableness_big5', 'score': 0.999945}, {'tone_name': 'Emotional Range', 'tone_id': 'emotional_range_big5', 'score': 0.859732}], 'category_name': 'Social Tone', 'category_id': 'social_tone'}]}}, \"is five five five one two one two yes that's me my old address is number one two three oak street my new address is five six seven pine street\": {'document_tone': {'tone_categories': [{'tones': [{'tone_name': 'Anger', 'tone_id': 'anger', 'score': 0.172933}, {'tone_name': 'Disgust', 'tone_id': 'disgust', 'score': 0.015805}, {'tone_name': 'Fear', 'tone_id': 'fear', 'score': 0.308858}, {'tone_name': 'Joy', 'tone_id': 'joy', 'score': 0.081127}, {'tone_name': 'Sadness', 'tone_id': 'sadness', 'score': 0.13895}], 'category_name': 'Emotion Tone', 'category_id': 'emotion_tone'}, {'tones': [{'tone_name': 'Analytical', 'tone_id': 'analytical', 'score': 0.005824}, {'tone_name': 'Confident', 'tone_id': 'confident', 'score': 0.0}, {'tone_name': 'Tentative', 'tone_id': 'tentative', 'score': 0.0}], 'category_name': 'Language Tone', 'category_id': 'language_tone'}, {'tones': [{'tone_name': 'Openness', 'tone_id': 'openness_big5', 'score': 0.610248}, {'tone_name': 'Conscientiousness', 'tone_id': 'conscientiousness_big5', 'score': 0.538998}, {'tone_name': 'Extraversion', 'tone_id': 'extraversion_big5', 'score': 0.708579}, {'tone_name': 'Agreeableness', 'tone_id': 'agreeableness_big5', 'score': 0.57936}, {'tone_name': 'Emotional Range', 'tone_id': 'emotional_range_big5', 'score': 0.783064}], 'category_name': 'Social Tone', 'category_id': 'social_tone'}]}}, \"yes and the zip is nine zero two one zero yep that's right now the phone number stays the same that's right I would like to keep all the options\": {'document_tone': {'tone_categories': [{'tones': [{'tone_name': 'Anger', 'tone_id': 'anger', 'score': 0.067541}, {'tone_name': 'Disgust', 'tone_id': 'disgust', 'score': 0.023768}, {'tone_name': 'Fear', 'tone_id': 'fear', 'score': 0.041836}, {'tone_name': 'Joy', 'tone_id': 'joy', 'score': 0.139282}, {'tone_name': 'Sadness', 'tone_id': 'sadness', 'score': 0.223626}], 'category_name': 'Emotion Tone', 'category_id': 'emotion_tone'}, {'tones': [{'tone_name': 'Analytical', 'tone_id': 'analytical', 'score': 0.0}, {'tone_name': 'Confident', 'tone_id': 'confident', 'score': 0.194239}, {'tone_name': 'Tentative', 'tone_id': 'tentative', 'score': 0.0}], 'category_name': 'Language Tone', 'category_id': 'language_tone'}, {'tones': [{'tone_name': 'Openness', 'tone_id': 'openness_big5', 'score': 0.849008}, {'tone_name': 'Conscientiousness', 'tone_id': 'conscientiousness_big5', 'score': 0.94296}, {'tone_name': 'Extraversion', 'tone_id': 'extraversion_big5', 'score': 0.623561}, {'tone_name': 'Agreeableness', 'tone_id': 'agreeableness_big5', 'score': 0.52558}, {'tone_name': 'Emotional Range', 'tone_id': 'emotional_range_big5', 'score': 0.957396}], 'category_name': 'Social Tone', 'category_id': 'social_tone'}]}}, \"good morning can you give me some help I'd like to change my address please my name is Ryan Smith I am from Sacramento California that's right my phone number\": {'document_tone': {'tone_categories': [{'tones': [{'tone_name': 'Anger', 'tone_id': 'anger', 'score': 0.037599}, {'tone_name': 'Disgust', 'tone_id': 'disgust', 'score': 0.013308}, {'tone_name': 'Fear', 'tone_id': 'fear', 'score': 0.019337}, {'tone_name': 'Joy', 'tone_id': 'joy', 'score': 0.177722}, {'tone_name': 'Sadness', 'tone_id': 'sadness', 'score': 0.028126}], 'category_name': 'Emotion Tone', 'category_id': 'emotion_tone'}, {'tones': [{'tone_name': 'Analytical', 'tone_id': 'analytical', 'score': 0.0}, {'tone_name': 'Confident', 'tone_id': 'confident', 'score': 0.0}, {'tone_name': 'Tentative', 'tone_id': 'tentative', 'score': 0.497569}], 'category_name': 'Language Tone', 'category_id': 'language_tone'}, {'tones': [{'tone_name': 'Openness', 'tone_id': 'openness_big5', 'score': 0.425597}, {'tone_name': 'Conscientiousness', 'tone_id': 'conscientiousness_big5', 'score': 0.746131}, {'tone_name': 'Extraversion', 'tone_id': 'extraversion_big5', 'score': 0.982865}, {'tone_name': 'Agreeableness', 'tone_id': 'agreeableness_big5', 'score': 0.996915}, {'tone_name': 'Emotional Range', 'tone_id': 'emotional_range_big5', 'score': 0.624295}], 'category_name': 'Social Tone', 'category_id': 'social_tone'}]}}, 'thanks have a good day bye bye ': {'document_tone': {'tone_categories': [{'tones': [{'tone_name': 'Anger', 'tone_id': 'anger', 'score': 0.024368}, {'tone_name': 'Disgust', 'tone_id': 'disgust', 'score': 0.012478}, {'tone_name': 'Fear', 'tone_id': 'fear', 'score': 0.032858}, {'tone_name': 'Joy', 'tone_id': 'joy', 'score': 0.714966}, {'tone_name': 'Sadness', 'tone_id': 'sadness', 'score': 0.028994}], 'category_name': 'Emotion Tone', 'category_id': 'emotion_tone'}, {'tones': [{'tone_name': 'Analytical', 'tone_id': 'analytical', 'score': 0.0}, {'tone_name': 'Confident', 'tone_id': 'confident', 'score': 0.0}, {'tone_name': 'Tentative', 'tone_id': 'tentative', 'score': 0.0}], 'category_name': 'Language Tone', 'category_id': 'language_tone'}, {'tones': [{'tone_name': 'Openness', 'tone_id': 'openness_big5', 'score': 0.092814}, {'tone_name': 'Conscientiousness', 'tone_id': 'conscientiousness_big5', 'score': 0.303382}, {'tone_name': 'Extraversion', 'tone_id': 'extraversion_big5', 'score': 0.586832}, {'tone_name': 'Agreeableness', 'tone_id': 'agreeableness_big5', 'score': 0.633077}, {'tone_name': 'Emotional Range', 'tone_id': 'emotional_range_big5', 'score': 0.608469}], 'category_name': 'Social Tone', 'category_id': 'social_tone'}]}}}\n"
                }
            ], 
            "source": "text_files = ['sample1-addresschange-positive_text.json', 'sample2-address-negative_text.json', 'sample3-shirt-return-weather-chitchat_text.json', 'sample4-angryblender-sportschitchat-recovery_text.json', 'sample5-calibration-toneandcontext_text.json'] # we add audio files to COS pre-conference\n\n\nanalyze_transcript(text_files[0])"
        }, 
        {
            "execution_count": null, 
            "cell_type": "code", 
            "metadata": {}, 
            "outputs": [], 
            "source": ""
        }
    ], 
    "metadata": {
        "kernelspec": {
            "display_name": "Python 3.5 with Spark 2.1", 
            "name": "python3-spark21", 
            "language": "python"
        }, 
        "language_info": {
            "mimetype": "text/x-python", 
            "nbconvert_exporter": "python", 
            "version": "3.5.4", 
            "name": "python", 
            "file_extension": ".py", 
            "pygments_lexer": "ipython3", 
            "codemirror_mode": {
                "version": 3, 
                "name": "ipython"
            }
        }
    }, 
    "nbformat": 4
}